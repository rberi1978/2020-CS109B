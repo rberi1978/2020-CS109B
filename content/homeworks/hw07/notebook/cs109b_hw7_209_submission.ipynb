{
 "cells": [
  {
   "cell_type": "markdown",
   "metadata": {
    "colab_type": "text",
    "deletable": false,
    "editable": false,
    "id": "JdFUQNA5XUbn"
   },
   "source": [
    "# <img style=\"float: left; padding-right: 10px; width: 45px\" src=\"https://raw.githubusercontent.com/Harvard-IACS/2018-CS109A/master/content/styles/iacs.png\"> CS109B Data Science 2: Advanced Topics in Data Science \n",
    "\n",
    "## Homewor: Inference in NN \n",
    "\n",
    "**Harvard University**<br/>\n",
    "**Spring 2020**<br/>\n",
    "**Instructors:** Pavlos Protopapas, Mark Glickman, Chris Tanner<br/>\n",
    "\n",
    "<hr style=\"height:2pt\">"
   ]
  },
  {
   "cell_type": "code",
   "execution_count": 1,
   "metadata": {
    "colab": {
     "base_uri": "https://localhost:8080/",
     "height": 17
    },
    "colab_type": "code",
    "deletable": false,
    "editable": false,
    "id": "cKWDlL0JXUbs",
    "outputId": "642bd4a8-ebb6-415f-e935-337ee5ccaef6"
   },
   "outputs": [
    {
     "data": {
      "text/html": [
       "<style>\n",
       "blockquote { background: #AEDE94; }\n",
       "h1 { \n",
       "    padding-top: 25px;\n",
       "    padding-bottom: 25px;\n",
       "    text-align: left; \n",
       "    padding-left: 10px;\n",
       "    background-color: #DDDDDD; \n",
       "    color: black;\n",
       "}\n",
       "h2 { \n",
       "    padding-top: 10px;\n",
       "    padding-bottom: 10px;\n",
       "    text-align: left; \n",
       "    padding-left: 5px;\n",
       "    background-color: #EEEEEE; \n",
       "    color: black;\n",
       "}\n",
       "\n",
       "div.exercise {\n",
       "\tbackground-color: #ffcccc;\n",
       "\tborder-color: #E9967A; \t\n",
       "\tborder-left: 5px solid #800080; \n",
       "\tpadding: 0.5em;\n",
       "}\n",
       "\n",
       "span.sub-q {\n",
       "\tfont-weight: bold;\n",
       "}\n",
       "div.theme {\n",
       "\tbackground-color: #DDDDDD;\n",
       "\tborder-color: #E9967A; \t\n",
       "\tborder-left: 5px solid #800080; \n",
       "\tpadding: 0.5em;\n",
       "\tfont-size: 18pt;\n",
       "}\n",
       "div.gc { \n",
       "\tbackground-color: #AEDE94;\n",
       "\tborder-color: #E9967A; \t \n",
       "\tborder-left: 5px solid #800080; \n",
       "\tpadding: 0.5em;\n",
       "\tfont-size: 12pt;\n",
       "}\n",
       "p.q1 { \n",
       "    padding-top: 5px;\n",
       "    padding-bottom: 5px;\n",
       "    text-align: left; \n",
       "    padding-left: 5px;\n",
       "    background-color: #EEEEEE; \n",
       "    color: black;\n",
       "}\n",
       "header {\n",
       "   padding-top: 35px;\n",
       "    padding-bottom: 35px;\n",
       "    text-align: left; \n",
       "    padding-left: 10px;\n",
       "    background-color: #DDDDDD; \n",
       "    color: black;\n",
       "}\n",
       "</style>\n",
       "\n"
      ],
      "text/plain": [
       "<IPython.core.display.HTML object>"
      ]
     },
     "execution_count": 1,
     "metadata": {},
     "output_type": "execute_result"
    }
   ],
   "source": [
    "#RUN THIS CELL \n",
    "import requests\n",
    "from IPython.core.display import HTML\n",
    "styles = requests.get(\"https://raw.githubusercontent.com/Harvard-IACS/2018-CS109A/master/content/styles/cs109.css\").text\n",
    "HTML(styles)"
   ]
  },
  {
   "cell_type": "code",
   "execution_count": 2,
   "metadata": {
    "colab": {
     "base_uri": "https://localhost:8080/",
     "height": 17
    },
    "colab_type": "code",
    "deletable": false,
    "editable": false,
    "id": "cKWDlL0JXUbs",
    "outputId": "642bd4a8-ebb6-415f-e935-337ee5ccaef6"
   },
   "outputs": [],
   "source": [
    "#RUN THIS CELL\n",
    "import os\n",
    "import pathlib\n",
    "working_dir = pathlib.Path().absolute()\n",
    "os.chdir(working_dir)"
   ]
  },
  {
   "cell_type": "markdown",
   "metadata": {
    "deletable": false,
    "editable": false
   },
   "source": [
    "<hr style=\"height:2pt\">\n",
    "\n",
    "### INSTRUCTIONS\n",
    "\n",
    "- To submit your assignment follow the instructions given in Canvas.\n",
    "\n",
    "- This homework can be submitted in pairs.\n",
    "\n",
    "- Please restart the kernel and run the entire notebook again before you submit.\n",
    "\n",
    "<hr style=\"height:2pt\">"
   ]
  },
  {
   "cell_type": "code",
   "execution_count": 3,
   "metadata": {
    "colab": {
     "base_uri": "https://localhost:8080/",
     "height": 34
    },
    "colab_type": "code",
    "deletable": false,
    "editable": false,
    "id": "hakVc8z8aGmt",
    "outputId": "8ad99d3a-22a6-4509-a417-c679a16a50ca"
   },
   "outputs": [],
   "source": [
    "import numpy as np\n",
    "import pandas as pd\n",
    "import matplotlib.pyplot as plt\n",
    "import seaborn as sns\n",
    "# from sklearn.preprocessing import StandardScaler\n",
    "\n",
    "sns.set()\n",
    "\n",
    "import tensorflow as tf\n",
    "\n",
    "import tensorflow.keras.backend as K\n",
    "from tensorflow.keras import layers\n",
    "from tensorflow.keras.models import Sequential\n",
    "from tensorflow.keras.layers import Dense, Flatten\n",
    "from tensorflow.keras.callbacks import Callback, ModelCheckpoint, History \n",
    "from tensorflow.keras.wrappers.scikit_learn import KerasClassifier\n",
    "#from tensorflow.keras.utils import np_utils\n",
    "from tensorflow.keras.optimizers import SGD, Adam\n",
    "from tensorflow.keras.layers import Dropout\n",
    "from sklearn.model_selection import cross_val_score,  KFold, train_test_split, StratifiedKFold\n",
    "from sklearn.preprocessing import LabelEncoder, StandardScaler\n",
    "from sklearn.pipeline import Pipeline\n",
    "from sklearn.metrics import confusion_matrix\n",
    "from tensorflow.keras import optimizers\n",
    "\n",
    "from functools import partial\n",
    "\n",
    "np.random.seed(0)\n",
    "\n",
    "\n",
    "%matplotlib notebook\n",
    "%matplotlib inline"
   ]
  },
  {
   "cell_type": "markdown",
   "metadata": {
    "colab_type": "text",
    "deletable": false,
    "editable": false,
    "id": "rUkgUGwJXUcH"
   },
   "source": [
    "<div class=\"theme\"> Overview </div> \n",
    "\n",
    "In this homework, we will investigate methods for uncertainty quantification in deep neural networks. These are alternatives to the robust MCMC that doesn't scale to large models."
   ]
  },
  {
   "cell_type": "markdown",
   "metadata": {
    "colab_type": "text",
    "deletable": false,
    "id": "kX9cfAwWXUcL"
   },
   "source": [
    "<div class='exercise'><b> Question 1: Dropout as a Bayesian Approximation [10 pts] (Gal & Ghahramani 2015, https://arxiv.org/abs/1506.02142)</b></div>  \n",
    "\n",
    "For this question, we will be generate a synthetic dataset in order to be able to test different uncertainty regimes, we will train the model with a gap in the data. \n",
    "\n",
    "**1.1** [1 pt] Generate a synthetic two dimensional dataset using the function y = 0.1 * x^3 plus random noise (0, 0.25). Generate a training set of 200 points with no data in the range x=[-1,1]. Generate a test set of 80 data points with values uniformly distributed in the whole domain. Plot the two data sets.\n",
    "\n",
    "**1.2** [2 pts] Create a fully connected neural network with 3 layers of 20 nodes each. Include dropout (using the Dropout class provided) before the last layer. \n",
    "\n",
    "**1.3** [2 pts] Train the network with dropout of 0.1, do inference for all the test points 10 times in training mode. From the outputs, find the model mean and standard variation. Repeat with dropoout of 0.2.\n",
    "\n",
    "**1.4** [1 pt] Make a plot of the data, the model, and the uncertainty. Show the model mean and color the region of tow standard deviations.\n",
    "\n",
    "**1.5** [2 pts] Turn dropout off (set it to 0) and train 50 models bootstrapping the training data. Doing statistics on the outputs, make a plot of the data, the model, and the uncertainty. Show the model mean and color the region two standard deviations away, as in **1.3**\n",
    "\n",
    "**1.6** [2 pts] Compare both methods and discuss the pros and cons of each.\n",
    "\n"
   ]
  },
  {
   "cell_type": "markdown",
   "metadata": {
    "colab_type": "text",
    "deletable": false,
    "editable": false,
    "id": "hBtmANNuuS6h"
   },
   "source": [
    "## Answers"
   ]
  },
  {
   "cell_type": "markdown",
   "metadata": {
    "autograde": "1.1",
    "deletable": false,
    "editable": false
   },
   "source": [
    "**1.1** [1 pt] Generate a synthetic two dimensional dataset using the function y = 0.1 * x^3 plus random noise (0, 0.25). Generate a training set of 200 points with no data in the range x=[-1,1]. Generate a test set of 80 data points with values uniformly distributed in the whole domain. Plot the two data sets.\n"
   ]
  },
  {
   "cell_type": "code",
   "execution_count": 204,
   "metadata": {
    "deletable": false
   },
   "outputs": [],
   "source": [
    "def build_dataset(N, noise_std=0.25, is_test=True):\n",
    "    # your code here\n",
    "    if is_test:\n",
    "        x = np.linspace(-4,4,N)\n",
    "    else:\n",
    "        x = np.concatenate([np.linspace(-4,-1,N/2),np.linspace(1,4,N/2)])\n",
    "    y = 0.1*x**3 + noise_std*np.random.randn(N)\n",
    "    return [x,y]\n",
    "    "
   ]
  },
  {
   "cell_type": "code",
   "execution_count": 205,
   "metadata": {
    "deletable": false
   },
   "outputs": [],
   "source": [
    "# your code here\n",
    "\n",
    "x_train, y_train = build_dataset(200, is_test=False)\n",
    "x_test, y_test = build_dataset(80, is_test=True)\n"
   ]
  },
  {
   "cell_type": "code",
   "execution_count": 275,
   "metadata": {
    "deletable": false
   },
   "outputs": [
    {
     "data": {
      "text/plain": [
       "<matplotlib.legend.Legend at 0x15f5a2310>"
      ]
     },
     "execution_count": 275,
     "metadata": {},
     "output_type": "execute_result"
    },
    {
     "data": {
      "image/png": "[encoded data removed]",
      "text/plain": [
       "<Figure size 432x288 with 1 Axes>"
      ]
     },
     "metadata": {
      "needs_background": "light"
     },
     "output_type": "display_data"
    }
   ],
   "source": [
    "# your code here\n",
    "plt.scatter(x_train, y_train, s=3, label='train')\n",
    "plt.scatter(x_test, y_test, s=3, label='test')\n",
    "plt.title(\"y=0.1x^3 + noise\")\n",
    "plt.legend()"
   ]
  },
  {
   "cell_type": "markdown",
   "metadata": {
    "autograde": "1.2",
    "deletable": false,
    "editable": false
   },
   "source": [
    "**1.2** [2 pts] Create a fully connected neural network with 3 layers of 20 nodes each. Include dropout (using the Dropout class provided) before the last layer.\n"
   ]
  },
  {
   "cell_type": "code",
   "execution_count": 134,
   "metadata": {
    "deletable": false,
    "editable": false
   },
   "outputs": [],
   "source": [
    "# https://github.com/keras-team/keras/issues/9412\n",
    "\n",
    "class Dropout(layers.Dropout):\n",
    "    \"\"\"Applies Dropout to the input.\n",
    "    Dropout consists in randomly setting\n",
    "    a fraction `rate` of input units to 0 at each update during training time,\n",
    "    which helps prevent overfitting.\n",
    "    # Arguments\n",
    "        rate: float between 0 and 1. Fraction of the input units to drop.\n",
    "        noise_shape: 1D integer tensor representing the shape of the\n",
    "            binary dropout mask that will be multiplied with the input.\n",
    "            For instance, if your inputs have shape\n",
    "            `(batch_size, timesteps, features)` and\n",
    "            you want the dropout mask to be the same for all timesteps,\n",
    "            you can use `noise_shape=(batch_size, 1, features)`.\n",
    "        seed: A Python integer to use as random seed.\n",
    "    # References\n",
    "        - [Dropout: A Simple Way to Prevent Neural Networks from Overfitting](\n",
    "           http://www.jmlr.org/papers/volume15/srivastava14a/srivastava14a.pdf)\n",
    "    \"\"\"\n",
    "    def __init__(self, rate, training=None, noise_shape=None, seed=None, **kwargs):\n",
    "        super(Dropout, self).__init__(rate, noise_shape=None, seed=None,**kwargs)\n",
    "        self.training = training\n",
    "\n",
    "        \n",
    "    def call(self, inputs, training=None):\n",
    "        if 0. < self.rate < 1.:\n",
    "            noise_shape = self._get_noise_shape(inputs)\n",
    "\n",
    "            def dropped_inputs():\n",
    "                return K.dropout(inputs, self.rate, noise_shape,\n",
    "                                 seed=self.seed)\n",
    "            if not training: \n",
    "                return K.in_train_phase(dropped_inputs, inputs, training=self.training)\n",
    "            return K.in_train_phase(dropped_inputs, inputs, training=training)\n",
    "        return inputs"
   ]
  },
  {
   "cell_type": "code",
   "execution_count": 202,
   "metadata": {
    "deletable": false
   },
   "outputs": [],
   "source": [
    "# create model \n",
    "# your code here \n",
    "\n",
    "tf.keras.backend.clear_session()\n",
    "\n",
    "input_layer = tf.keras.layers.Input((1,))\n",
    "x = Dense(20, activation='relu')(input_layer)\n",
    "x = Dense(20, activation='relu')(x)\n",
    "x = Dense(20, activation='relu')(x)\n",
    "\n",
    "drop = Dropout(0.1)(x, training=True) \n",
    "output = Dense(1)(drop)\n",
    "\n",
    "model = tf.keras.Model(input_layer,output)\n",
    "\n",
    "model.compile(loss='mse', optimizer=tf.keras.optimizers.Adam(lr=0.01))"
   ]
  },
  {
   "cell_type": "code",
   "execution_count": 207,
   "metadata": {
    "deletable": false
   },
   "outputs": [],
   "source": [
    "# Fit the model\n",
    "# your code here\n",
    "x_train, x_test, y_train, y_test = x_train.reshape(-1,1), x_test.reshape(-1,1), y_train.reshape(-1,1),y_test.reshape(-1,1)\n",
    "history = model.fit(x_train,y_train, epochs=20, verbose=0)"
   ]
  },
  {
   "cell_type": "code",
   "execution_count": 208,
   "metadata": {
    "deletable": false
   },
   "outputs": [
    {
     "name": "stdout",
     "output_type": "stream",
     "text": [
      "\n",
      "# Evaluate on train data\n",
      "train mse loss: 0.27487519204616545\n",
      "\n",
      "# Evaluate on test data\n",
      "test mse loss 0.24322231709957123\n"
     ]
    }
   ],
   "source": [
    "# evaluate the training and testing performance of your model \n",
    "# your code here\n",
    "print('\\n# Evaluate on train data')\n",
    "results_train = model.evaluate(x_train, y_train, verbose=0)\n",
    "print('train mse loss:', results_train)\n",
    "\n",
    "print('\\n# Evaluate on test data')\n",
    "results_test = model.evaluate(x_test, y_test, verbose=0)\n",
    "print('test mse loss', results_test)"
   ]
  },
  {
   "cell_type": "code",
   "execution_count": 276,
   "metadata": {
    "deletable": false
   },
   "outputs": [
    {
     "data": {
      "text/plain": [
       "<matplotlib.legend.Legend at 0x15be59c10>"
      ]
     },
     "execution_count": 276,
     "metadata": {},
     "output_type": "execute_result"
    },
    {
     "data": {
      "image/png": "[encoded data removed]",
      "text/plain": [
       "<Figure size 432x288 with 1 Axes>"
      ]
     },
     "metadata": {
      "needs_background": "light"
     },
     "output_type": "display_data"
    }
   ],
   "source": [
    "# plot \n",
    "# your code here \n",
    "pred = model.predict(x_test)\n",
    "plt.scatter(x_test, pred, s=3, label='prediction')\n",
    "plt.scatter(x_test, y_test, s=3, label='y_test')\n",
    "plt.title('Test Prediction')\n",
    "plt.legend()"
   ]
  },
  {
   "cell_type": "markdown",
   "metadata": {
    "autograde": "1.3",
    "deletable": false,
    "editable": false
   },
   "source": [
    "**1.3** [2 pts] Train the network with dropout of 0.1, do inference for all the test points 10 times in training mode. From the outputs, find the model mean and standard variation. Repeat with dropoout of 0.2.\n"
   ]
  },
  {
   "cell_type": "code",
   "execution_count": 263,
   "metadata": {
    "deletable": false
   },
   "outputs": [],
   "source": [
    "# your code here\n",
    "tf.keras.backend.clear_session()\n",
    "\n",
    "input_layer = tf.keras.layers.Input((1,))\n",
    "x = Dense(20, activation='relu')(input_layer)\n",
    "x = Dense(20, activation='relu')(x)\n",
    "x = Dense(20, activation='relu')(x)\n",
    "\n",
    "drop = Dropout(0.1)(x, training=True) \n",
    "output = Dense(1)(drop)\n",
    "\n",
    "model1 = tf.keras.Model(input_layer,output)\n",
    "\n",
    "model1.compile(loss='mse', optimizer=tf.keras.optimizers.Adam(lr=0.01))\n",
    "model1.fit(x_train,y_train, epochs=20, verbose=0)\n",
    "\n",
    "results1=model1.predict(x_test) #first iterations\n",
    "for i in range(1,10): #2nd-10th iterations\n",
    "    results1 = np.concatenate((results1,model1.predict(x_test)),axis=1)\n",
    "\n",
    "mean1 = np.mean(results1, axis=1)\n",
    "std1 = np.std(results1, axis=1)\n",
    "\n"
   ]
  },
  {
   "cell_type": "code",
   "execution_count": 198,
   "metadata": {
    "deletable": false
   },
   "outputs": [],
   "source": [
    "# your code here\n",
    "\n",
    "tf.keras.backend.clear_session()\n",
    "\n",
    "input_layer = tf.keras.layers.Input((1,))\n",
    "x = Dense(20, activation='relu')(input_layer)\n",
    "x = Dense(20, activation='relu')(x)\n",
    "x = Dense(20, activation='relu')(x)\n",
    "\n",
    "drop = Dropout(0.2)(x, training=True) \n",
    "output = Dense(1)(drop)\n",
    "\n",
    "model2 = tf.keras.Model(input_layer,output)\n",
    "\n",
    "model2.compile(loss='mse', optimizer=tf.keras.optimizers.Adam(lr=0.01))\n",
    "model2.fit(x_train,y_train, epochs=20, verbose=0)\n",
    "\n",
    "results2=model2.predict(x_test) #first iterations\n",
    "for i in range(1,10): #2nd-10th iterations\n",
    "    results2 = np.concatenate((results2,model2.predict(x_test)),axis=1)\n",
    "\n",
    "mean2 = np.mean(results2, axis=1)\n",
    "std2 = np.std(results2, axis=1)\n"
   ]
  },
  {
   "cell_type": "markdown",
   "metadata": {
    "autograde": "1.4",
    "deletable": false,
    "editable": false
   },
   "source": [
    "**1.4** [1 pt] Make a plot of the data, the model, and the uncertainty. Show the model mean and color the region of tow standard deviations.\n"
   ]
  },
  {
   "cell_type": "code",
   "execution_count": 264,
   "metadata": {
    "deletable": false
   },
   "outputs": [
    {
     "data": {
      "text/plain": [
       "<matplotlib.legend.Legend at 0x15db64210>"
      ]
     },
     "execution_count": 264,
     "metadata": {},
     "output_type": "execute_result"
    },
    {
     "data": {
      "image/png": "[encoded data removed]",
      "text/plain": [
       "<Figure size 432x288 with 1 Axes>"
      ]
     },
     "metadata": {
      "needs_background": "light"
     },
     "output_type": "display_data"
    }
   ],
   "source": [
    "# plot \n",
    "# your code here\n",
    "# lower1, upper1 = np.percentile(results1, [2.5, 97.5], axis=1) #for 95% CI\n",
    "lower1, upper1 = mean1 - 2*std1, mean1 + 2*std1 #CI = 2 std deviation away from mean\n",
    "\n",
    "plt.plot(x_test, mean1, c='b', label='mean')\n",
    "plt.plot(x_test, lower1, c='r', label='upper bound')\n",
    "plt.plot(x_test, upper1, c='r', label='lower bound')\n",
    "plt.fill_between(x_test.reshape(1,-1)[0], lower1, upper1, alpha=0.3, color='r')\n",
    "plt.scatter(x_train, y_train, s=3, c='k', label='training points')\n",
    "plt.title('Dropout 0.1')\n",
    "plt.legend()"
   ]
  },
  {
   "cell_type": "code",
   "execution_count": 261,
   "metadata": {},
   "outputs": [
    {
     "data": {
      "text/plain": [
       "<matplotlib.legend.Legend at 0x1616ef690>"
      ]
     },
     "execution_count": 261,
     "metadata": {},
     "output_type": "execute_result"
    },
    {
     "data": {
      "image/png": "[encoded data removed]",
      "text/plain": [
       "<Figure size 432x288 with 1 Axes>"
      ]
     },
     "metadata": {
      "needs_background": "light"
     },
     "output_type": "display_data"
    }
   ],
   "source": [
    "# lower2, upper2 = np.percentile(results2, [2.5, 97.5], axis=1) #for 95% CI\n",
    "lower2, upper2 = mean2 - 2*std2, mean2 + 2*std2 #CI = 2 std deviation away from mean\n",
    "\n",
    "plt.plot(x_test, mean2, c='b', label='mean')\n",
    "plt.plot(x_test, lower2, c='r', label='upper bound')\n",
    "plt.plot(x_test, upper2, c='r', label='lower bound')\n",
    "plt.fill_between(x_test.reshape(1,-1)[0], lower2, upper2, alpha=0.3, color='r')\n",
    "plt.scatter(x_train, y_train, s=3, c='k', label='training points')\n",
    "plt.title('Dropout 0.2')\n",
    "plt.legend()"
   ]
  },
  {
   "cell_type": "markdown",
   "metadata": {
    "autograde": "1.5",
    "deletable": false,
    "editable": false
   },
   "source": [
    "**1.5** [2 pts] Turn dropout off (set it to 0) and train 50 models bootstrapping the training data. Doing statistics on the outputs, make a plot of the data, the model, and the uncertainty. Show the model mean and color the region tow standard deviations away, as in **1.3**\n"
   ]
  },
  {
   "cell_type": "code",
   "execution_count": 250,
   "metadata": {
    "deletable": false
   },
   "outputs": [],
   "source": [
    "# define model \n",
    "# your code here \n",
    "tf.keras.backend.clear_session()\n",
    "\n",
    "input_layer = tf.keras.layers.Input((1,))\n",
    "x = Dense(20, activation='relu')(input_layer)\n",
    "x = Dense(20, activation='relu')(x)\n",
    "x = Dense(20, activation='relu')(x)\n",
    "\n",
    "drop = Dropout(0)(x, training=True) \n",
    "output = Dense(1)(drop)\n",
    "\n",
    "model_bootstrap = tf.keras.Model(input_layer,output)\n",
    "\n",
    "model_bootstrap.compile(loss='mse', optimizer=tf.keras.optimizers.Adam(lr=0.01))"
   ]
  },
  {
   "cell_type": "code",
   "execution_count": 216,
   "metadata": {
    "deletable": false,
    "editable": false
   },
   "outputs": [],
   "source": [
    "# you may need this \n",
    "# from https://github.com/keras-team/keras/issues/341#issuecomment-438347068\n",
    "\n",
    "def reset_weights(model):\n",
    "    for layer in model.layers: \n",
    "        if isinstance(layer, tf.keras.Model):\n",
    "            reset_weights(layer)\n",
    "            continue\n",
    "    for k, initializer in layer.__dict__.items():\n",
    "        if \"initializer\" not in k:\n",
    "            continue\n",
    "        # find the corresponding variable\n",
    "        var = getattr(layer, k.replace(\"_initializer\", \"\"))\n",
    "        var.assign(initializer(var.shape, var.dtype))"
   ]
  },
  {
   "cell_type": "code",
   "execution_count": 270,
   "metadata": {},
   "outputs": [],
   "source": [
    "# idx = np.random.randint(0,len(x_train)-1,10)\n",
    "# x_train[idx]"
   ]
  },
  {
   "cell_type": "code",
   "execution_count": 271,
   "metadata": {
    "deletable": false
   },
   "outputs": [],
   "source": [
    "# Bootstrap and run model \n",
    "# your code here \n",
    "\n",
    "# from sklearn.utils import resample\n",
    "\n",
    "for i in range(50):\n",
    "        \n",
    "    # bootstrap training data\n",
    "    idx = np.random.randint(0,len(x_train)-1,len(x_train))\n",
    "    X_boot, y_boot = x_train[idx], y_train[idx]\n",
    "#     train = resample(np.concatenate((x_train, y_train),axis=1))\n",
    "#     X_boot, y_boot = np.hsplit(train,2)\n",
    "    \n",
    "    # fit to bootstrapped data\n",
    "    model_bootstrap.fit(X_boot, y_boot, epochs=20, verbose=0)\n",
    "    \n",
    "    if i==0:\n",
    "        results_bootstrap = model_bootstrap.predict(x_test) #first iterations\n",
    "    else:\n",
    "        results_bootstrap = np.concatenate((results_bootstrap,model_bootstrap.predict(x_test)),axis=1)\n",
    "    \n",
    "    reset_weights(model_bootstrap)"
   ]
  },
  {
   "cell_type": "code",
   "execution_count": 272,
   "metadata": {
    "deletable": false
   },
   "outputs": [],
   "source": [
    "mean_bootstrap = np.mean(results_bootstrap, axis=1)\n",
    "std_bootstrap = np.std(results_bootstrap, axis=1)"
   ]
  },
  {
   "cell_type": "code",
   "execution_count": null,
   "metadata": {
    "deletable": false,
    "editable": false
   },
   "outputs": [],
   "source": []
  },
  {
   "cell_type": "code",
   "execution_count": 273,
   "metadata": {
    "deletable": false
   },
   "outputs": [
    {
     "data": {
      "text/plain": [
       "<matplotlib.legend.Legend at 0x1605d3a10>"
      ]
     },
     "execution_count": 273,
     "metadata": {},
     "output_type": "execute_result"
    },
    {
     "data": {
      "image/png": "[encoded data removed]",
      "text/plain": [
       "<Figure size 432x288 with 1 Axes>"
      ]
     },
     "metadata": {
      "needs_background": "light"
     },
     "output_type": "display_data"
    }
   ],
   "source": [
    "# plot \n",
    "# your code here \n",
    "\n",
    "# lower, upper = np.percentile(results_bootstrap, [2.5, 97.5], axis=1) #for 95% CI\n",
    "lower, upper = mean_bootstrap - 2*std_bootstrap, mean_bootstrap + 2*std_bootstrap\n",
    "\n",
    "plt.plot(x_test, mean_bootstrap, c='b', label='mean')\n",
    "plt.plot(x_test, lower, c='r', label='upper bound')\n",
    "plt.plot(x_test, upper, c='r', label='lower bound')\n",
    "plt.fill_between(x_test.reshape(1,-1)[0], lower, upper, alpha=0.3, color='r')\n",
    "plt.scatter(x_train, y_train, s=3, c='k', label='training points')\n",
    "plt.title('Bootstrap')\n",
    "plt.legend()"
   ]
  },
  {
   "cell_type": "markdown",
   "metadata": {
    "autograde": "1.6",
    "deletable": false
   },
   "source": [
    "**1.6** [2 pts] Compare both methods and discuss the pros and cons of each.\n"
   ]
  },
  {
   "cell_type": "markdown",
   "metadata": {
    "deletable": false
   },
   "source": [
    "*Your answer here*\n",
    "\n",
    "In the first method (using dropout layer), only *one* network is trained to minimize the loss on the training dataset. Then, at testing time, multiple models (*n=10*) are generated, applying a stochastic dropout mask to the initial network. This means all the models share the same weights. Basically, diversity in the models is the result of dropout masks.\n",
    "\n",
    "For the method using dropout layer, we can see that increasing our dropout rate causes an increase in the stdev/variances (the plot shows wider confidence interval - specified by 2 sd). This makes sense, because the more neurons being dropped out of the network, the higher the variance in the output. This would lead to larger intervals that would capture our target value. One of the cons of this approach is that it requires making *n=10* number of predictions for every new datapoint. Depending on the use case this might not be feasible for real time inference.\n",
    "\n",
    "In second method (with bootstrap), we make *n=50* different models; each model is trained separately to minimize the loss on a different (bootstrap) sample of the training data. This ensures diversity in the models. \n",
    "\n",
    "Comparing the plots in 1.3 and 1.5, it can be seen that the CI from bootstrap method are wider than the CI from the dropout method. But this bootstrap's CI does cover all the training points (compared to dropout method, some training points are not covered by the thin CI layer around the missing points in [-1,1]). However, the mean from the bootstrap method seems to resemble more like a straight line rather than a cubic function curve, while in the dropout method the mean curve is still resembling a cubic function. \n",
    "\n",
    "Downside of bootstrap method: since bootstrap method basically estimates the uncertainty/variance and confidence interval through the standard error, it won't work if the normality ssumptions are not met in the sampling distributions of the model’s residuals, and parameters. Moreover, bootstrapping techniques won’t work when we’re dealing with large and complex neural networks. \n"
   ]
  },
  {
   "cell_type": "code",
   "execution_count": null,
   "metadata": {
    "deletable": false,
    "editable": false
   },
   "outputs": [],
   "source": []
  }
 ],
 "metadata": {
  "accelerator": "GPU",
  "colab": {
   "name": "cs109b-hw3_finalDraft.ipynb",
   "provenance": [],
   "version": "0.3.2"
  },
  "kernelspec": {
   "display_name": "Python 3",
   "language": "python",
   "name": "python3"
  },
  "language_info": {
   "codemirror_mode": {
    "name": "ipython",
    "version": 3
   },
   "file_extension": ".py",
   "mimetype": "text/x-python",
   "name": "python",
   "nbconvert_exporter": "python",
   "pygments_lexer": "ipython3",
   "version": "3.7.6"
  }
 },
 "nbformat": 4,
 "nbformat_minor": 4
}
