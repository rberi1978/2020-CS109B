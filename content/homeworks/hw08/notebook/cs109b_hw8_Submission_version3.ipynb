{
 "cells": [
  {
   "cell_type": "markdown",
   "metadata": {
    "deletable": false,
    "editable": false
   },
   "source": [
    "# <img style=\"float: left; padding-right: 10px; width: 45px\" src=\"https://raw.githubusercontent.com/Harvard-IACS/2018-CS109A/master/content/styles/iacs.png\"> CS109B Data Science 2: Advanced Topics in Data Science \n",
    "\n",
    "##  Homework 8: Reinforcement Learning [100 pts]\n",
    "\n",
    "\n",
    "**Harvard University**<br/>\n",
    "**Spring 2020**<br/>\n",
    "**Instructors**: Pavlos Protopapas, Mark Glickman and Chris Tanner<br/>\n",
    "\n",
    "**DISCLAIMER**: No public reproduction of this homework nor its solution is allowed without the explicit consent of their authors.\n",
    "\n",
    "\n",
    "\n",
    "<hr style=\"height:2pt\">\n",
    "\n",
    "---"
   ]
  },
  {
   "cell_type": "code",
   "execution_count": 1,
   "metadata": {
    "deletable": false,
    "editable": false
   },
   "outputs": [
    {
     "data": {
      "text/html": [
       "<style>\n",
       "blockquote { background: #AEDE94; }\n",
       "h1 { \n",
       "    padding-top: 25px;\n",
       "    padding-bottom: 25px;\n",
       "    text-align: left; \n",
       "    padding-left: 10px;\n",
       "    background-color: #DDDDDD; \n",
       "    color: black;\n",
       "}\n",
       "h2 { \n",
       "    padding-top: 10px;\n",
       "    padding-bottom: 10px;\n",
       "    text-align: left; \n",
       "    padding-left: 5px;\n",
       "    background-color: #EEEEEE; \n",
       "    color: black;\n",
       "}\n",
       "\n",
       "div.exercise {\n",
       "\tbackground-color: #ffcccc;\n",
       "\tborder-color: #E9967A; \t\n",
       "\tborder-left: 5px solid #800080; \n",
       "\tpadding: 0.5em;\n",
       "}\n",
       "\n",
       "span.sub-q {\n",
       "\tfont-weight: bold;\n",
       "}\n",
       "div.theme {\n",
       "\tbackground-color: #DDDDDD;\n",
       "\tborder-color: #E9967A; \t\n",
       "\tborder-left: 5px solid #800080; \n",
       "\tpadding: 0.5em;\n",
       "\tfont-size: 18pt;\n",
       "}\n",
       "div.gc { \n",
       "\tbackground-color: #AEDE94;\n",
       "\tborder-color: #E9967A; \t \n",
       "\tborder-left: 5px solid #800080; \n",
       "\tpadding: 0.5em;\n",
       "\tfont-size: 12pt;\n",
       "}\n",
       "p.q1 { \n",
       "    padding-top: 5px;\n",
       "    padding-bottom: 5px;\n",
       "    text-align: left; \n",
       "    padding-left: 5px;\n",
       "    background-color: #EEEEEE; \n",
       "    color: black;\n",
       "}\n",
       "header {\n",
       "   padding-top: 35px;\n",
       "    padding-bottom: 35px;\n",
       "    text-align: left; \n",
       "    padding-left: 10px;\n",
       "    background-color: #DDDDDD; \n",
       "    color: black;\n",
       "}\n",
       "</style>\n",
       "\n"
      ],
      "text/plain": [
       "<IPython.core.display.HTML object>"
      ]
     },
     "execution_count": 1,
     "metadata": {},
     "output_type": "execute_result"
    }
   ],
   "source": [
    "#PLEASE RUN THIS CELL \n",
    "import requests\n",
    "from IPython.core.display import HTML\n",
    "styles = requests.get(\"https://raw.githubusercontent.com/Harvard-IACS/2018-CS109A/master/content/styles/cs109.css\").text\n",
    "HTML(styles)"
   ]
  },
  {
   "cell_type": "markdown",
   "metadata": {
    "deletable": false,
    "editable": false
   },
   "source": [
    "### INSTRUCTIONS\n",
    "\n",
    "- To submit your assignment follow the instructions given in Canvas.\n",
    "- Restart the kernel and run the whole notebook again before you submit.\n",
    "- Do not submit a notebook that is excessively long because output was not suppressed or otherwise limited. "
   ]
  },
  {
   "cell_type": "code",
   "execution_count": 2,
   "metadata": {
    "deletable": false,
    "editable": false
   },
   "outputs": [],
   "source": [
    "# Numpy and plotting libraries\n",
    "\n",
    "import numpy as np\n",
    "import matplotlib.pyplot as plt\n",
    "import time\n",
    "\n",
    "%matplotlib inline"
   ]
  },
  {
   "cell_type": "markdown",
   "metadata": {
    "deletable": false,
    "editable": false
   },
   "source": [
    "# Overview"
   ]
  },
  {
   "cell_type": "markdown",
   "metadata": {
    "deletable": false,
    "editable": false
   },
   "source": [
    "The objective of this homework assignment is to get a taste of implementing a planning algorithm in a very simple setting. "
   ]
  },
  {
   "cell_type": "markdown",
   "metadata": {
    "deletable": false,
    "editable": false
   },
   "source": [
    "<div class='exercise'><b>  Markov Decision Process [100 points] </b></div>\n",
    "\n",
    "\n",
    "We have a hallway consisting of 5 blocks (states 0-4). There are two actions, which deterministically move the agent to the left or the right. More explicitly: Performing action “left” in state 0 keeps you in state 0, moves you from state 1 to state 0, from state 2 to state 1, state 3 to state 2, and state 4 to state 3. Performing action “right” in state 4 keeps you in state 4, moves you from state 3 to state 4, from state 2 to state 3, from state 1 to state 2, and from state 0 to state 1. The agent receives a reward of -1.0 if it starts any iteration in state 0, state 1, state 2, or state 3. The agent receives a reward of +10.0 if it starts in state 4. Let the discount factor γ = 0.75.\n",
    "\n",
    "We provide class MDP that instantiates an object representing a Markov decision process and verifies shapes.\n",
    "\n",
    "**1.1** MDP proble [10 pts]: Build an MDP representing the hallway setting described above, by completing the function `build_hallway_mdp()`. You need to specify the array T that encodes the transitions from state and actions into next states; and a reward vector R that specifies the reward for being at a certain state.\n",
    "\n",
    "**1.2**  Policy Evaluation [20 pts]: Initialize a policy “left” for every state (a 1D numpy array). Implement policy evaluation as described in lecture (also in Chapter 4 of [Sutton and Barto](http://incompleteideas.net/book/RLbook2018.pdf)). That is, for each possible starting state, what is the expected sum of future rewards for this policy? Using an iterative approach, how many iterations did it take for the value of the policy to converge to a precision of 10−5? \n",
    "\n",
    "**1.3**  Q-function Computation [20 pts]: Compute the Q-function for the `always_left` policy above. Do you see any opportunties for policy improvement?\n",
    "\n",
    "**1.4** Policy Iteration [20 pts]: Using your solutions to questions 1.2 and 1.3 above, implement policy iteration. Report the sequence of policies you find starting with the policy “left” in every state. How many rounds of policy iteration are required to converge to the optimal policy? \n",
    "\n",
    "**1.5** [10 pts] What are the effects of different choices of the discount factor on the convergence of policy evaluation? Run policy evaluation for discount factor $\\gamma \\in [ 10^{-12}, 10^{-3}, 0.1, 0.33, 0.67, 0.9, 0.95, 0.99]$.\n",
    "\n",
    "**1.6** [20 pts] What happens if the transitions are stochastic? Recode the MDP with probability of switching to the opposite action of 0.1. What are now the values when following the optimal policy?"
   ]
  },
  {
   "cell_type": "code",
   "execution_count": 3,
   "metadata": {
    "deletable": false,
    "editable": false
   },
   "outputs": [],
   "source": [
    "class MDP(object):\n",
    "    \"\"\"Wrapper for a discrete Markov decision process that makes shape checks\"\"\"\n",
    "    \n",
    "    def __init__(self, T, R, discount):\n",
    "        \"\"\"Initialize the Markov Decision Process.\n",
    "        - `T` should be a 3D array whose dimensions represent initial states,\n",
    "          actions, and next states, respectively, and whose values represent\n",
    "          transition probabilities.\n",
    "        - `R` should be a 1D array describing rewards for beginning each\n",
    "          timestep in a particular state (or a 3D array like `T`). It will be\n",
    "          transformed into the appropriate 3D shape.\n",
    "        - `discount` should be a value in [0,1) controlling the decay of future\n",
    "          rewards.\"\"\"\n",
    "        Ds, Da, _ = T.shape\n",
    "        if T.shape not in [(Ds, Da, Ds)]:\n",
    "            raise ValueError(\"T should be in R^|S|x|A|x|S|\")\n",
    "        if R.shape not in [(Ds, Da, Ds), (Ds,)]:\n",
    "            raise ValueError(\"R should be in R^|S| or like T\")\n",
    "        if discount < 0 or discount >= 1:\n",
    "            raise ValueError(\"discount should be in [0,1)\")\n",
    "        if R.shape == (Ds,):  # Expand R if necessary\n",
    "            R = np.array([[[R[s1] for s2 in range(Ds)] for a in range(Da)] for s1 in range(Ds)])\n",
    "        self.T = T\n",
    "        self.R = R\n",
    "        self.discount = discount\n",
    "        self.num_states = Ds\n",
    "        self.num_actions = Da\n",
    "        self.states = np.arange(Ds)\n",
    "        self.actions = np.arange(Da)"
   ]
  },
  {
   "cell_type": "markdown",
   "metadata": {
    "autograde": "1.1",
    "deletable": false,
    "editable": false
   },
   "source": [
    "**1.1** MDP proble [10 pts]: Build an MDP representing the hallway setting described above, by completing the function `build_hallway_mdp()`. You need to specify the array T that encodes the transitions from state and actions into next states; and a reward vector R that specifies the reward for being at a certain state.\n"
   ]
  },
  {
   "cell_type": "code",
   "execution_count": 4,
   "metadata": {
    "deletable": false
   },
   "outputs": [],
   "source": [
    "def build_hallway_mdp():\n",
    "    \"\"\"Build an MDP representing the hallway setting described.\"\"\"\n",
    "    # your code here\n",
    "    \n",
    "    T = np.zeros((5,2,5))\n",
    "    \n",
    "    epsilon = 0\n",
    "    \n",
    "    T = np.zeros((5,2,5))\n",
    "    \n",
    "    idx_i = np.array([0,0,1,1,2,2,3,3,4,4])\n",
    "    idx_j = np.array([0,1]*5)\n",
    "    idx_k = np.copy(idx_i)\n",
    "    idx_k[1:-2:2] += 1\n",
    "    idx_k[2::2] -= 1\n",
    "    \n",
    "    T[idx_i, idx_j, idx_k] = 1 - epsilon\n",
    "    \n",
    "    R = -np.ones(5)\n",
    "    R[4] = 10\n",
    "    \n",
    "    # end of your code here\n",
    "    return MDP(T, R, 0.75)"
   ]
  },
  {
   "cell_type": "code",
   "execution_count": 5,
   "metadata": {
    "deletable": false,
    "editable": false
   },
   "outputs": [
    {
     "data": {
      "image/png": "[encoded data removed]",
      "text/plain": [
       "<Figure size 360x144 with 2 Axes>"
      ]
     },
     "metadata": {
      "needs_background": "light"
     },
     "output_type": "display_data"
    }
   ],
   "source": [
    "# Run for sanity check\n",
    "mdp = build_hallway_mdp()\n",
    "\n",
    "plt.figure(figsize=(5,2))\n",
    "plt.subplot(121, title='Left transitions')\n",
    "plt.imshow(mdp.T[:,0,:])\n",
    "plt.ylabel(\"Initial state\"); plt.xlabel('Next state')\n",
    "plt.subplot(122, title='Right transitions')\n",
    "plt.imshow(mdp.T[:,1,:])\n",
    "plt.ylabel(\"Initial state\"); plt.xlabel('Next state')\n",
    "plt.show()"
   ]
  },
  {
   "cell_type": "markdown",
   "metadata": {
    "autograde": "1.2",
    "deletable": false,
    "editable": false
   },
   "source": [
    "**1.2**  Policy Evaluation [20 pts]: Initialize a policy “left” for every state (a 1D numpy array). Implement policy evaluation as described in lecture (also in Chapter 4 of [Sutton and Barto](http://incompleteideas.net/book/RLbook2018.pdf)). That is, for each possible starting state, what is the expected sum of future rewards for this policy? Using an iterative approach, how many iterations did it take for the value of the policy to converge to a precision of 10−5?\n"
   ]
  },
  {
   "cell_type": "code",
   "execution_count": 6,
   "metadata": {
    "deletable": false
   },
   "outputs": [],
   "source": [
    "def build_always_left_policy():\n",
    "    \"\"\"Build a policy representing the action \"left\" in every state.\"\"\"\n",
    "    # your code here\n",
    "    \n",
    "    policy = np.zeros(5, dtype=np.int)\n",
    "    return policy"
   ]
  },
  {
   "cell_type": "code",
   "execution_count": 7,
   "metadata": {
    "deletable": false
   },
   "outputs": [],
   "source": [
    "def iterative_value_estimation(mdp, policy, tol=1e-5):\n",
    "    \"\"\"Value estimation algorithm from page 75, Sutton and Barto. Returns an\n",
    "    estimate of the value of a given policy under the MDP (with the number of\n",
    "    iterations required to reach specified tolerance).\"\"\"\n",
    "    V = np.zeros(mdp.num_states)\n",
    "    num_iters = 0\n",
    "       \n",
    "    # your code here\n",
    "    \n",
    "    # Extract the states of MDP\n",
    "    states = mdp.states\n",
    "        \n",
    "    # Compute the reward for current action as per policy\n",
    "    current_action_value = (mdp.T * mdp.R).sum(axis=-1)[states, policy]\n",
    "    \n",
    "    # Compute the transition matrix\n",
    "    T = mdp.T[states, policy,:]\n",
    "    \n",
    "    # Iterate while the difference (delta) is greater than threshold i.e. tol\n",
    "    while True:\n",
    "        delta = 0\n",
    "            \n",
    "        # For the given state and policy determine the next state\n",
    "        V_next = np.dot(T, V)\n",
    "\n",
    "        # For give state, action, and next state determine the value\n",
    "        state_action_value = current_action_value + (V_next * mdp.discount)\n",
    "\n",
    "        # Update the delta to check for loop breaking\n",
    "        delta = max(delta, np.abs(state_action_value - V).max())\n",
    "\n",
    "        # Update the value for the current state\n",
    "        V = state_action_value \n",
    "        \n",
    "        # Update the number of iterations\n",
    "        num_iters += 1 \n",
    "        \n",
    "        # Check if threshold for breaking iteration is reached\n",
    "        if delta < tol:\n",
    "            break\n",
    "    \n",
    "    # end of your code here\n",
    "    return V, num_iters"
   ]
  },
  {
   "cell_type": "code",
   "execution_count": 8,
   "metadata": {
    "deletable": false,
    "editable": false
   },
   "outputs": [
    {
     "name": "stdout",
     "output_type": "stream",
     "text": [
      "Policy value was:\n",
      "[-4. -4. -4. -4.  7.]\n",
      "Number of Iterations to Converge to a precision of 10−5:\n",
      "42\n"
     ]
    },
    {
     "data": {
      "image/png": "[encoded data removed]",
      "text/plain": [
       "<Figure size 432x288 with 1 Axes>"
      ]
     },
     "metadata": {
      "needs_background": "light"
     },
     "output_type": "display_data"
    }
   ],
   "source": [
    "# Run for sanity check\n",
    "always_left = build_always_left_policy()\n",
    "\n",
    "values, iters = iterative_value_estimation(mdp, always_left)\n",
    "print('Policy value was:')\n",
    "print(values.round(4))\n",
    "\n",
    "print('Number of Iterations to Converge to a precision of 10−5:')\n",
    "print(iters)\n",
    "\n",
    "tols = np.logspace(0,-8,9)\n",
    "iters = [iterative_value_estimation(mdp, always_left, tol=tol)[1] for tol in tols]\n",
    "plt.plot(tols, iters, marker='o')\n",
    "plt.xscale('log')\n",
    "plt.xlabel(\"Tolerance\")\n",
    "plt.ylabel(\"Iterations to converge to within tolerance\")\n",
    "plt.show()"
   ]
  },
  {
   "cell_type": "markdown",
   "metadata": {},
   "source": [
    "<div style=\"border: 3px solid #800080; padding: 10px\"> \n",
    "\n",
    "***Expected sum of future rewards for \"Always Left\" policy:***\n",
    "\n",
    "State|Future Reward\n",
    "-|-\n",
    "0|-4\n",
    "1|-4\n",
    "2|-4\n",
    "3|-4\n",
    "4|7\n",
    "<br>\n",
    "\n",
    "***Number of iterations for the value of the policy to converge to a precision of 10−5:*** **`42`**"
   ]
  },
  {
   "cell_type": "markdown",
   "metadata": {
    "autograde": "1.3",
    "deletable": false,
    "editable": false
   },
   "source": [
    "**1.3**  Q-function Computation [20 pts]: Compute the Q-function for the `always_left` policy above. Do you see any opportunties for policy improvement?\n"
   ]
  },
  {
   "cell_type": "code",
   "execution_count": 9,
   "metadata": {
    "deletable": false
   },
   "outputs": [],
   "source": [
    "# 1.3\n",
    "def Q_function(mdp, policy, tol=1e-5):\n",
    "    \"\"\"Q function from Equation 4.6, Sutton and Barto. For each state and\n",
    "    action, returns the value of performing the action at that state, then\n",
    "    following the policy thereafter.\"\"\"\n",
    "    # your code here\n",
    "    \n",
    "    # Initialize the Q arrays\n",
    "    Q = np.sum((mdp.T * mdp.R), axis=2)\n",
    "    \n",
    "    # Generate the Value vector\n",
    "    V, _ = iterative_value_estimation(mdp, policy, tol)\n",
    "    \n",
    "    # State Vector\n",
    "    V_next = np.dot(mdp.T, V)\n",
    "    \n",
    "    Q += V_next * mdp.discount\n",
    "    \n",
    "    # end of your code here\n",
    "    assert Q.shape == (mdp.num_states, mdp.num_actions)\n",
    "    return Q"
   ]
  },
  {
   "cell_type": "code",
   "execution_count": 10,
   "metadata": {
    "deletable": false,
    "editable": false
   },
   "outputs": [
    {
     "name": "stdout",
     "output_type": "stream",
     "text": [
      "Q function was:\n",
      "[[-4.   -4.  ]\n",
      " [-4.   -4.  ]\n",
      " [-4.   -4.  ]\n",
      " [-4.    4.25]\n",
      " [ 7.   15.25]]\n"
     ]
    }
   ],
   "source": [
    "# Run for sanity check\n",
    "\n",
    "Q = Q_function(mdp, always_left)\n",
    "print('Q function was:')\n",
    "print(Q.round(4))"
   ]
  },
  {
   "cell_type": "markdown",
   "metadata": {
    "deletable": false
   },
   "source": [
    "<div style=\"border: 3px solid #800080; padding: 10px\"> \n",
    "\n",
    "***Opportunities for Policy Improvements:***\n",
    "* For state 3 and 4:\n",
    "    - We can increase Q-value by changing our first action to go right instead of go left\n",
    "    - Q-value for starting in state 3 will increase from -4 to 4.25\n",
    "    - Q-value for starting in state 4 will increase from 7 to 15.25\n",
    "* **Just from above a better policy will be:**\n",
    "\n",
    "Starting State | Action\n",
    "---------------|-------\n",
    "0              | Go Left\n",
    "1              | Go Left\n",
    "2              | Go Left\n",
    "3              | Go Right\n",
    "4              | Go Right"
   ]
  },
  {
   "cell_type": "markdown",
   "metadata": {
    "autograde": "1.4",
    "deletable": false,
    "editable": false
   },
   "source": [
    "**1.4** Policy Iteration [20 pts]: Using your solutions to questions 1.2 and 1.3 above, implement policy iteration. Report the sequence of policies you find starting with the policy “left” in every state. How many rounds of policy iteration are required to converge to the optimal policy?\n"
   ]
  },
  {
   "cell_type": "code",
   "execution_count": 11,
   "metadata": {
    "deletable": false
   },
   "outputs": [],
   "source": [
    "# 1.4\n",
    "def policy_iteration(mdp, init_policy=None, tol=1e-5):\n",
    "    \"\"\"Policy iteration algorithm from page 80, Sutton and Barto.\n",
    "    Iteratively transform the initial policy to become optimal.\n",
    "    Return the full path.\"\"\"\n",
    "    # your code here\n",
    "    \n",
    "    # If no init_policy is specified, initialize the policy\n",
    "    if init_policy is None:\n",
    "        init_policy = np.zeros(mdp.num_states)\n",
    "    \n",
    "    # Add the initial policy to the list of policies\n",
    "    policies = [init_policy]\n",
    "    \n",
    "    # Interate till policy stablizes\n",
    "    while True:\n",
    "        \n",
    "        # Get the Q-values based on the current policy\n",
    "        Q = Q_function(mdp, init_policy, tol)\n",
    "        \n",
    "        # Based on the current Q-values determine the best policy\n",
    "        new_policy = Q.argmax(axis=1)\n",
    "        \n",
    "        # Check if threshold for breaking iteration is reached\n",
    "        if (new_policy == init_policy).all():\n",
    "            break\n",
    "        \n",
    "        # Add the new policy to the list of policies\n",
    "        policies.append(new_policy)\n",
    "        \n",
    "        # Set the current policy equal to new policy\n",
    "        init_policy = new_policy\n",
    "    \n",
    "    # end of your code here\n",
    "    return policies"
   ]
  },
  {
   "cell_type": "code",
   "execution_count": 12,
   "metadata": {
    "deletable": false,
    "editable": false
   },
   "outputs": [
    {
     "data": {
      "text/plain": [
       "[array([0, 0, 0, 0, 0]),\n",
       " array([0, 0, 0, 1, 1]),\n",
       " array([0, 0, 1, 1, 1]),\n",
       " array([0, 1, 1, 1, 1]),\n",
       " array([1, 1, 1, 1, 1])]"
      ]
     },
     "execution_count": 12,
     "metadata": {},
     "output_type": "execute_result"
    }
   ],
   "source": [
    "# Sanity check\n",
    "\n",
    "policy_iters = policy_iteration(mdp, always_left)\n",
    "policy_iters"
   ]
  },
  {
   "cell_type": "markdown",
   "metadata": {
    "deletable": false
   },
   "source": [
    "<div style=\"border: 3px solid #800080; padding: 10px\"> \n",
    "\n",
    "***Optimal Policy:***\n",
    "\n",
    "Starting State | Action\n",
    "---------------|-------\n",
    "0              | Go Right\n",
    "1              | Go Right\n",
    "2              | Go Right\n",
    "3              | Go Right\n",
    "4              | Go Right\n",
    "\n",
    "***Number of Iterations to Converge to Optimal Policy:*** **`5`** *(counting the inital policy and not making the last duplicate update)*\n",
    "\n",
    "***Note:*** The convergence actually happens in `4` algorithmic iterations but `5` unique different policies. **Since we do not perform update when the updated policy is same as initial policy, we do not count the last iteration).**"
   ]
  },
  {
   "cell_type": "markdown",
   "metadata": {
    "autograde": "1.5",
    "deletable": false,
    "editable": false
   },
   "source": [
    "**1.5** [10 pts] What are the effects of different choices of the discount factor on the convergence of policy evaluation? Run policy evaluation for discount factor $\\gamma \\in [ 10^{-12}, 10^{-3}, 0.1, 0.33, 0.67, 0.9, 0.95, 0.99]$.\n"
   ]
  },
  {
   "cell_type": "code",
   "execution_count": 13,
   "metadata": {
    "deletable": false
   },
   "outputs": [
    {
     "name": "stdout",
     "output_type": "stream",
     "text": [
      "Iterations by Discount Factors = [2, 3, 7, 12, 30, 111, 226, 1147]\n"
     ]
    }
   ],
   "source": [
    "# 1.5\n",
    "# your code here\n",
    "\n",
    "discount_factors = [ 10**(-12), 10**(-3), 0.1, 0.33, 0.67, 0.9, 0.95, 0.99]\n",
    "\n",
    "iters_by_factor = []\n",
    "\n",
    "for gamma in discount_factors:\n",
    "    mdp.discount = gamma\n",
    "    _, num_iters = iterative_value_estimation(mdp, always_left)\n",
    "    iters_by_factor.append(num_iters)\n",
    "\n",
    "print(\"Iterations by Discount Factors = {}\".format(iters_by_factor))"
   ]
  },
  {
   "cell_type": "code",
   "execution_count": 14,
   "metadata": {
    "deletable": false,
    "editable": false
   },
   "outputs": [
    {
     "data": {
      "image/png": "[encoded data removed]",
      "text/plain": [
       "<Figure size 432x288 with 1 Axes>"
      ]
     },
     "metadata": {
      "needs_background": "light"
     },
     "output_type": "display_data"
    }
   ],
   "source": [
    "plt.plot(discount_factors, iters_by_factor, marker='o')\n",
    "plt.xlabel('Discount factor $\\gamma$')\n",
    "plt.ylabel('Iterations for value estimate to converge')\n",
    "plt.title(\"Convergence of value estimate by $\\gamma$\")\n",
    "plt.show()"
   ]
  },
  {
   "cell_type": "markdown",
   "metadata": {
    "deletable": false
   },
   "source": [
    "<div style=\"border: 3px solid #800080; padding: 10px\"> \n",
    "\n",
    "Gamma|Iterations for Convergence\n",
    "-----|--------------------------\n",
    "1e-12|2\n",
    "0.001|3\n",
    "0.10 |7\n",
    "0.33 |12\n",
    "0.67 |30\n",
    "0.90 |111\n",
    "0.95 |226\n",
    "0.99 |1147\n",
    "\n",
    "***Effects of the discount factor on the convergence of policy:***\n",
    "* For really small discount rates, the convergence happens quickly, i.e. it take only 2 itertations for convergence when discount rate is 1e-12 and 3 iterations when discount rate increases to 0.001\n",
    "* Number of iterations needed for convergence increases exponetially with the increase in the discount rate\n",
    "    - It will approach infinity as discount rate approaches 1\n",
    "* For small discount rates the convergence happens faster as only initial steps add any meaningful term to the Value function.\n",
    "    - Higher order terms  i.e. higher powers of discount rates tend to zero much faster for small discount rates than for large discount rates\n",
    "* Once thing to note is that the absolute number of iterations required for convergence is also a function of the threshold (tol=1e-5)\n",
    "    - Higher the threshold, faster the convergence and lower the threshold, slower the convergence"
   ]
  },
  {
   "cell_type": "markdown",
   "metadata": {
    "autograde": "1.6",
    "deletable": false,
    "editable": false
   },
   "source": [
    "**1.6** [20 pts] What happens if the transitions are stochastic? Recode the MDP with probability of switching to the opposite action of 0.1. What are now the values when following the optimal policy?"
   ]
  },
  {
   "cell_type": "code",
   "execution_count": 15,
   "metadata": {
    "deletable": false
   },
   "outputs": [],
   "source": [
    "# 1.6\n",
    "# your code here\n",
    "\n",
    "def build_stochastic_hallway_mdp():\n",
    "    \"\"\"Build an stochastic MDP representing the hallway setting described.\"\"\"\n",
    "    # your code here\n",
    "    \n",
    "    epsilon = 0.1\n",
    "    \n",
    "    T = np.zeros((5,2,5))\n",
    "    \n",
    "    idx_i = np.array([0,0,1,1,2,2,3,3,4,4])\n",
    "    idx_j = np.array([0,1]*5)\n",
    "    idx_k = np.copy(idx_i)\n",
    "    idx_k[1:-2:2] += 1\n",
    "    idx_k[2::2] -= 1\n",
    "    \n",
    "    T[idx_i, idx_j, idx_k] = 1 - epsilon\n",
    "    \n",
    "    idx_k = np.copy(idx_i)\n",
    "    idx_k[3::2] -= 1\n",
    "    idx_k[:-2:2] += 1\n",
    "    \n",
    "    T[idx_i, idx_j, idx_k] = epsilon\n",
    "    \n",
    "    R = -np.ones(5)\n",
    "    R[4] = 10\n",
    "    \n",
    "    # end of your code here\n",
    "    return MDP(T, R, 0.75)"
   ]
  },
  {
   "cell_type": "code",
   "execution_count": 16,
   "metadata": {},
   "outputs": [
    {
     "data": {
      "text/plain": [
       "[array([0, 0, 0, 0, 0]), array([1, 1, 1, 1, 1])]"
      ]
     },
     "execution_count": 16,
     "metadata": {},
     "output_type": "execute_result"
    }
   ],
   "source": [
    "# Get the optimal policy\n",
    "mdp_stochastic = build_stochastic_hallway_mdp()\n",
    "policy_iters = policy_iteration(mdp_stochastic, always_left)\n",
    "policy_iters"
   ]
  },
  {
   "cell_type": "code",
   "execution_count": 17,
   "metadata": {},
   "outputs": [
    {
     "name": "stdout",
     "output_type": "stream",
     "text": [
      "Original Optimal Policy value:\n",
      "[ 9.9219 14.5625 20.75   29.     40.    ]\n",
      "Number of Iterations to Converge to a precision of 10−5:\n",
      "50\n",
      "Stochastic MDP Optimal Policy value:\n",
      "[ 6.7373 10.7141 16.6057 24.8921 36.5135]\n",
      "Number of Iterations to Converge to a precision of 10−5:\n",
      "49\n"
     ]
    },
    {
     "data": {
      "image/png": "[encoded data removed]",
      "text/plain": [
       "<Figure size 432x288 with 1 Axes>"
      ]
     },
     "metadata": {
      "needs_background": "light"
     },
     "output_type": "display_data"
    }
   ],
   "source": [
    "optimal_policy = policy_iters[-1]\n",
    "mdp = build_hallway_mdp()\n",
    "\n",
    "values, iters = iterative_value_estimation(mdp, optimal_policy)\n",
    "print('Original Optimal Policy value:')\n",
    "print(values.round(4))\n",
    "\n",
    "print('Number of Iterations to Converge to a precision of 10−5:')\n",
    "print(iters)\n",
    "\n",
    "values, iters = iterative_value_estimation(mdp_stochastic, optimal_policy)\n",
    "print('Stochastic MDP Optimal Policy value:')\n",
    "print(values.round(4))\n",
    "\n",
    "print('Number of Iterations to Converge to a precision of 10−5:')\n",
    "print(iters)\n",
    "\n",
    "tols = np.logspace(0,-8,9)\n",
    "iters = [iterative_value_estimation(mdp_stochastic, always_left, tol=tol)[1] for tol in tols]\n",
    "plt.plot(tols, iters, marker='o')\n",
    "plt.xscale('log')\n",
    "plt.xlabel(\"Tolerance\")\n",
    "plt.ylabel(\"Iterations to converge to within tolerance\")\n",
    "plt.show()"
   ]
  },
  {
   "cell_type": "markdown",
   "metadata": {
    "deletable": false
   },
   "source": [
    "<div style=\"border: 3px solid #800080; padding: 10px\"> \n",
    "\n",
    "***Optimal Policy for Stochastic MDP:***\n",
    "\n",
    "Starting State | Action\n",
    "---------------|-------\n",
    "0              | Go Right\n",
    "1              | Go Right\n",
    "2              | Go Right\n",
    "3              | Go Right\n",
    "4              | Go Right\n",
    "\n",
    "<br>\n",
    "\n",
    "***Expected sum of future rewards for \"Optimal Policy\" under Stochastic MDP:***\n",
    "\n",
    "State|Reward-Stochastic MDP|Reward-MDP\n",
    "-|-|-\n",
    "0|6.74|9.92\n",
    "1|10.71|14.56\n",
    "2|16.61|20.75\n",
    "3|24.89|29.00\n",
    "4|36.51|40.00\n",
    "\n",
    "<br>\n",
    "\n",
    "***Observations:***\n",
    "* Optimal Policy under Stochastic MDP is same as non-stochastic MDP\n",
    "* Expected Future Rewards are lower in case of Stochastic MDP due to non-zero probabilty of non-optimal outcomes\n",
    "* For \"Always Left\" policy the expected future rewards will be higher under stochastic MDP due to non-zero probability of better than the worst outcome"
   ]
  },
  {
   "cell_type": "markdown",
   "metadata": {},
   "source": [
    "# <img style=\"float: left; padding-right: 10px; width: 45px\" src=\"https://raw.githubusercontent.com/Harvard-IACS/2018-CS109A/master/content/styles/iacs.png\"> End of Homework"
   ]
  }
 ],
 "metadata": {
  "@webio": {
   "lastCommId": null,
   "lastKernelId": null
  },
  "kernelspec": {
   "display_name": "python3",
   "language": "python",
   "name": "python3"
  },
  "language_info": {
   "codemirror_mode": {
    "name": "ipython",
    "version": 3
   },
   "file_extension": ".py",
   "mimetype": "text/x-python",
   "name": "python",
   "nbconvert_exporter": "python",
   "pygments_lexer": "ipython3",
   "version": "3.7.4"
  }
 },
 "nbformat": 4,
 "nbformat_minor": 4
}
