{
 "cells": [
  {
   "cell_type": "markdown",
   "metadata": {},
   "source": [
    "# <img style=\"float: left; padding-right: 10px; width: 45px\" src=\"https://raw.githubusercontent.com/Harvard-IACS/2018-CS109A/master/content/styles/iacs.png\"> CS109B Data Science 2: Advanced Topics in Data Science \n",
    "\n",
    "##  Project F: Measuring the Shape and Brightness of Galaxies with Neural Networks\n",
    "### Ideation 2\n",
    "### Group 75: Dmitry Vukolov, Ning Xu, Rohit Beri, Sunil Chomal\n",
    "\n",
    "\n",
    "**Harvard University**<br/>\n",
    "**Spring 2020**<br/>\n",
    "**Instructors**: Pavlos Protopapas, Mark Glickman and Chris Tanner<br/>\n",
    "\n",
    "\n",
    "<hr style=\"height:2pt\">\n",
    "\n",
    "---\n",
    "\n"
   ]
  },
  {
   "cell_type": "code",
   "execution_count": 1,
   "metadata": {},
   "outputs": [
    {
     "data": {
      "text/html": [
       "<style>\n",
       "blockquote { background: #AEDE94; }\n",
       "h1 { \n",
       "    padding-top: 25px;\n",
       "    padding-bottom: 25px;\n",
       "    text-align: left; \n",
       "    padding-left: 10px;\n",
       "    background-color: #DDDDDD; \n",
       "    color: black;\n",
       "}\n",
       "h2 { \n",
       "    padding-top: 10px;\n",
       "    padding-bottom: 10px;\n",
       "    text-align: left; \n",
       "    padding-left: 5px;\n",
       "    background-color: #EEEEEE; \n",
       "    color: black;\n",
       "}\n",
       "\n",
       "div.exercise {\n",
       "\tbackground-color: #ffcccc;\n",
       "\tborder-color: #E9967A; \t\n",
       "\tborder-left: 5px solid #800080; \n",
       "\tpadding: 0.5em;\n",
       "}\n",
       "\n",
       "span.sub-q {\n",
       "\tfont-weight: bold;\n",
       "}\n",
       "div.theme {\n",
       "\tbackground-color: #DDDDDD;\n",
       "\tborder-color: #E9967A; \t\n",
       "\tborder-left: 5px solid #800080; \n",
       "\tpadding: 0.5em;\n",
       "\tfont-size: 18pt;\n",
       "}\n",
       "div.gc { \n",
       "\tbackground-color: #AEDE94;\n",
       "\tborder-color: #E9967A; \t \n",
       "\tborder-left: 5px solid #800080; \n",
       "\tpadding: 0.5em;\n",
       "\tfont-size: 12pt;\n",
       "}\n",
       "p.q1 { \n",
       "    padding-top: 5px;\n",
       "    padding-bottom: 5px;\n",
       "    text-align: left; \n",
       "    padding-left: 5px;\n",
       "    background-color: #EEEEEE; \n",
       "    color: black;\n",
       "}\n",
       "header {\n",
       "   padding-top: 35px;\n",
       "    padding-bottom: 35px;\n",
       "    text-align: left; \n",
       "    padding-left: 10px;\n",
       "    background-color: #DDDDDD; \n",
       "    color: black;\n",
       "}\n",
       "</style>\n",
       "\n"
      ],
      "text/plain": [
       "<IPython.core.display.HTML object>"
      ]
     },
     "execution_count": 1,
     "metadata": {},
     "output_type": "execute_result"
    }
   ],
   "source": [
    "# RUN THIS CELL\n",
    "import requests\n",
    "from IPython.core.display import HTML, display\n",
    "\n",
    "styles = requests.get(\n",
    "    \"https://raw.githubusercontent.com/Harvard-IACS/2018-CS109A/master/content/styles/cs109.css\"\n",
    ").text\n",
    "HTML(styles)"
   ]
  },
  {
   "cell_type": "markdown",
   "metadata": {},
   "source": [
    "## <div class=\"theme\"> Outline </div> \n",
    "\n",
    "1. Overview\n",
    "2. Loading the Data\n",
    "3. Structure and Size of the Data\n",
    "4. Basic Statistics of the Data \n",
    "5. Visualization of the Image Data \n",
    "6. Distributions of the Labels and Numerical Attributes \n",
    "7. Parametric Image Generation\n",
    "8. Summary"
   ]
  },
  {
   "cell_type": "markdown",
   "metadata": {},
   "source": [
    "## <div class=\"theme\"> Overview </div> \n",
    "\n",
    "<div style=\"border: 3px solid #800080; padding: 10px\"> \n",
    "\n",
    "## Creating Galaxy images using Galsim"
   ]
  },
  {
   "cell_type": "markdown",
   "metadata": {},
   "source": [
    "### <div class='exercise'> <b> Step 0: Load the essential libraries </b> </div>"
   ]
  },
  {
   "cell_type": "code",
   "execution_count": 2,
   "metadata": {},
   "outputs": [],
   "source": [
    "# Load useful libraries\n",
    "import os\n",
    "import sys\n",
    "import copy\n",
    "import math\n",
    "import time\n",
    "import random\n",
    "import numpy as np\n",
    "import pandas as pd\n",
    "import ipywidgets as widgets\n",
    "\n",
    "# Import h5py for reading h5 files\n",
    "import h5py\n",
    "\n",
    "# Load galsim for data generation\n",
    "import galsim\n",
    "\n",
    "# Plotting libraries\n",
    "import matplotlib.pyplot as plt\n",
    "import seaborn as sns\n",
    "\n",
    "# Tweak plot resolution and styling\n",
    "%config InlineBackend.figure_format = \"retina\"\n",
    "sns.set(style=\"white\", palette=None, rc={\"axes.linewidth\": 1})\n",
    "plt.rc(\"image\", cmap=\"viridis\")"
   ]
  },
  {
   "cell_type": "code",
   "execution_count": 3,
   "metadata": {},
   "outputs": [],
   "source": [
    "# Load useful libraries\n",
    "from sklearn.preprocessing import minmax_scale\n",
    "from sklearn.model_selection import train_test_split\n",
    "from sklearn.decomposition import PCA\n",
    "from sklearn.manifold import TSNE\n",
    "\n",
    "# TensorFlow and tf.keras\n",
    "import tensorflow as tf\n",
    "from tensorflow.keras import backend as K\n",
    "from tensorflow.keras import layers\n",
    "from tensorflow.keras import models\n",
    "from tensorflow.keras import losses\n",
    "from tensorflow.keras import optimizers\n",
    "from tensorflow.keras import initializers\n",
    "from tensorflow.keras.metrics import *\n",
    "from tensorflow.keras.callbacks import EarlyStopping"
   ]
  },
  {
   "cell_type": "markdown",
   "metadata": {},
   "source": [
    "### <div class='exercise'> <b> Step 1: Load the data </b> </div>"
   ]
  },
  {
   "cell_type": "code",
   "execution_count": 4,
   "metadata": {},
   "outputs": [
    {
     "name": "stdout",
     "output_type": "stream",
     "text": [
      "Available variables: ['img', 'img_nonoise', 'label', 'psf_r', 'snr', 'sigma', 'train_test']\n"
     ]
    }
   ],
   "source": [
    "# Read the data set\n",
    "dataset = \"./cs109b-project/data/data_v1.npz\"\n",
    "\n",
    "with np.load(dataset) as data:\n",
    "    print(\"Available variables:\", data.files)\n",
    "\n",
    "    image = data[\"img\"]\n",
    "    image_nonoise = data[\"img_nonoise\"]\n",
    "    label = data[\"label\"]\n",
    "    snr = data[\"snr\"]\n",
    "    sigma = data[\"sigma\"]\n",
    "    psf = data[\"psf_r\"]"
   ]
  },
  {
   "cell_type": "code",
   "execution_count": 5,
   "metadata": {},
   "outputs": [],
   "source": [
    "# Reshape images to 3D array\n",
    "image = image.reshape(image.shape[0], image.shape[1], image.shape[2], 1)\n",
    "image_nonoise = image_nonoise.reshape(image_nonoise.shape[0], image_nonoise.shape[1], image_nonoise.shape[2], 1)\n",
    "\n",
    "# Split into 90% train and 10% test (creates a view of the array)\n",
    "n_train = int(label.shape[0] * 0.9)\n",
    "image_train, image_val = image[:n_train], image[n_train:]\n",
    "image_nonoise_train, image_nonoise_val = image_nonoise[:n_train], image_nonoise[n_train:]\n",
    "label_train, label_val = label[:n_train], label[n_train:]\n",
    "snr_train, snr_val = snr[:n_train], snr[n_train:]\n",
    "sigma_train, sigma_val = sigma[:n_train], sigma[n_train:]\n",
    "psf_train, psf_val = psf[:n_train], psf[n_train:]\n",
    "\n",
    "\n",
    "# Zero-One Normalization of the labels\n",
    "label_min = label.min(axis=0)\n",
    "label_max = label.max(axis=0)\n",
    "label_diff = (label_max - label_min)\n",
    "\n",
    "label_train = (label_train - label_min)/label_diff\n",
    "label_val = (label_val - label_min)/label_diff\n",
    "\n",
    "\n",
    "# Zero-One Normalization of the sigma\n",
    "sigma_min = sigma.min(axis=0)\n",
    "sigma_max = sigma.max(axis=0)\n",
    "sigma_diff = (sigma_max - sigma_min)\n",
    "sigma_diff = 1 if sigma_diff==0 else sigma_diff\n",
    "\n",
    "sigma_train = ((sigma_train - sigma_min)/sigma_diff).reshape(-1,1)\n",
    "sigma_val = ((sigma_val - sigma_min)/sigma_diff).reshape(-1,1)\n",
    "\n",
    "\n",
    "# Zero-One Normalization of the PSF\n",
    "psf_min = psf.min(axis=0)\n",
    "psf_max = psf.max(axis=0)\n",
    "psf_diff = (psf_max - psf_min)\n",
    "psf_diff = 1 if psf_diff==0 else psf_diff\n",
    "\n",
    "psf_train = ((psf_train - psf_min)/psf_diff).reshape(-1,1)\n",
    "psf_val = ((psf_val - psf_min)/psf_diff).reshape(-1,1)\n",
    "\n",
    "\n",
    "# Zero-One Normalization of the no-noise images\n",
    "image_nonoise_min = image_nonoise.min()\n",
    "image_nonoise_max = image_nonoise.max()\n",
    "image_nonoise_diff = (image_nonoise_max - image_nonoise_min)\n",
    "\n",
    "image_nonoise_train = (image_nonoise_train - image_nonoise_min)/image_nonoise_diff\n",
    "image_nonoise_val = (image_nonoise_val - image_nonoise_min)/image_nonoise_diff\n",
    "\n",
    "\n",
    "# Zero-One Normalization of the noisy images\n",
    "image_min = image.min()\n",
    "image_max = image.max()\n",
    "image_diff = (image_max - image_min)\n",
    "\n",
    "image_train = (image_train - image_min)/image_diff\n",
    "image_val = (image_val - image_min)/image_diff"
   ]
  },
  {
   "cell_type": "markdown",
   "metadata": {},
   "source": [
    "### <div class='exercise'> <b> Step 2: Structure and Size of the Data </b> </div>"
   ]
  },
  {
   "cell_type": "code",
   "execution_count": 6,
   "metadata": {},
   "outputs": [
    {
     "name": "stdout",
     "output_type": "stream",
     "text": [
      "Image Shape            = (200000, 64, 64, 1)\n",
      "No-noise Image Shape   = (200000, 64, 64, 1)\n",
      "Label Shape            = (200000, 5)\n",
      "SNR Shape              = (200000,)\n",
      "Sigma Shape            = (200000,)\n",
      "PSF-R Shape            = (200000,)\n"
     ]
    }
   ],
   "source": [
    "# Structure and Size of the Data\n",
    "print(\"Image Shape            = {}\".format(image.shape))\n",
    "print(\"No-noise Image Shape   = {}\".format(image_nonoise.shape))\n",
    "print(\"Label Shape            = {}\".format(label.shape))\n",
    "print(\"SNR Shape              = {}\".format(snr.shape))\n",
    "print(\"Sigma Shape            = {}\".format(sigma.shape))\n",
    "print(\"PSF-R Shape            = {}\".format(psf.shape))"
   ]
  },
  {
   "cell_type": "markdown",
   "metadata": {},
   "source": [
    "### <div class='exercise'> <b> Step 3: Basic Statistics of the Data </b> </div>"
   ]
  },
  {
   "cell_type": "code",
   "execution_count": 7,
   "metadata": {
    "scrolled": true
   },
   "outputs": [
    {
     "data": {
      "text/html": [
       "<div>\n",
       "<style scoped>\n",
       "    .dataframe tbody tr th:only-of-type {\n",
       "        vertical-align: middle;\n",
       "    }\n",
       "\n",
       "    .dataframe tbody tr th {\n",
       "        vertical-align: top;\n",
       "    }\n",
       "\n",
       "    .dataframe thead th {\n",
       "        text-align: right;\n",
       "    }\n",
       "</style>\n",
       "<table border=\"1\" class=\"dataframe\">\n",
       "  <thead>\n",
       "    <tr style=\"text-align: right;\">\n",
       "      <th></th>\n",
       "      <th>Mean</th>\n",
       "      <th>Var</th>\n",
       "      <th>Min</th>\n",
       "      <th>Max</th>\n",
       "    </tr>\n",
       "    <tr>\n",
       "      <th>Data Type</th>\n",
       "      <th></th>\n",
       "      <th></th>\n",
       "      <th></th>\n",
       "      <th></th>\n",
       "    </tr>\n",
       "  </thead>\n",
       "  <tbody>\n",
       "    <tr>\n",
       "      <td>Image</td>\n",
       "      <td>26.12</td>\n",
       "      <td>7.813868e+04</td>\n",
       "      <td>-1197.36</td>\n",
       "      <td>8133.71</td>\n",
       "    </tr>\n",
       "    <tr>\n",
       "      <td>No-noise Image</td>\n",
       "      <td>26.12</td>\n",
       "      <td>3.810756e+04</td>\n",
       "      <td>-0.15</td>\n",
       "      <td>7783.52</td>\n",
       "    </tr>\n",
       "    <tr>\n",
       "      <td>SNR</td>\n",
       "      <td>58.23</td>\n",
       "      <td>5.812000e+02</td>\n",
       "      <td>12.23</td>\n",
       "      <td>100.00</td>\n",
       "    </tr>\n",
       "    <tr>\n",
       "      <td>Sigma</td>\n",
       "      <td>200.00</td>\n",
       "      <td>0.000000e+00</td>\n",
       "      <td>200.00</td>\n",
       "      <td>200.00</td>\n",
       "    </tr>\n",
       "    <tr>\n",
       "      <td>PSF-R</td>\n",
       "      <td>0.50</td>\n",
       "      <td>0.000000e+00</td>\n",
       "      <td>0.50</td>\n",
       "      <td>0.50</td>\n",
       "    </tr>\n",
       "    <tr>\n",
       "      <td>Flux</td>\n",
       "      <td>108535.80</td>\n",
       "      <td>2.378915e+09</td>\n",
       "      <td>30000.67</td>\n",
       "      <td>251822.86</td>\n",
       "    </tr>\n",
       "    <tr>\n",
       "      <td>Sersic Index</td>\n",
       "      <td>3.25</td>\n",
       "      <td>2.530000e+00</td>\n",
       "      <td>0.50</td>\n",
       "      <td>6.00</td>\n",
       "    </tr>\n",
       "    <tr>\n",
       "      <td>Sersic Radius</td>\n",
       "      <td>0.38</td>\n",
       "      <td>2.000000e-02</td>\n",
       "      <td>0.10</td>\n",
       "      <td>0.60</td>\n",
       "    </tr>\n",
       "    <tr>\n",
       "      <td>g1</td>\n",
       "      <td>0.00</td>\n",
       "      <td>8.000000e-02</td>\n",
       "      <td>-0.67</td>\n",
       "      <td>0.67</td>\n",
       "    </tr>\n",
       "    <tr>\n",
       "      <td>g2</td>\n",
       "      <td>0.00</td>\n",
       "      <td>8.000000e-02</td>\n",
       "      <td>-0.67</td>\n",
       "      <td>0.67</td>\n",
       "    </tr>\n",
       "  </tbody>\n",
       "</table>\n",
       "</div>"
      ],
      "text/plain": [
       "                     Mean           Var       Min        Max\n",
       "Data Type                                                   \n",
       "Image               26.12  7.813868e+04  -1197.36    8133.71\n",
       "No-noise Image      26.12  3.810756e+04     -0.15    7783.52\n",
       "SNR                 58.23  5.812000e+02     12.23     100.00\n",
       "Sigma              200.00  0.000000e+00    200.00     200.00\n",
       "PSF-R                0.50  0.000000e+00      0.50       0.50\n",
       "Flux            108535.80  2.378915e+09  30000.67  251822.86\n",
       "Sersic Index         3.25  2.530000e+00      0.50       6.00\n",
       "Sersic Radius        0.38  2.000000e-02      0.10       0.60\n",
       "g1                   0.00  8.000000e-02     -0.67       0.67\n",
       "g2                   0.00  8.000000e-02     -0.67       0.67"
      ]
     },
     "execution_count": 7,
     "metadata": {},
     "output_type": "execute_result"
    }
   ],
   "source": [
    "# Gather the image and attribute tables for processing\n",
    "tables = {\n",
    "    \"Image\": image,\n",
    "    \"No-noise Image\": image_nonoise,\n",
    "    \"SNR\": snr,\n",
    "    \"Sigma\": sigma,\n",
    "    \"PSF-R\": psf,\n",
    "}\n",
    "# Map each of the five labels to their names\n",
    "labels = pd.DataFrame(label, columns=[\"Flux\", \"Sersic Index\", \"Sersic Radius\", \"g1\", \"g2\"])\n",
    "\n",
    "# Compute basic statistics\n",
    "stats = {name: [data.mean(), data.var(), data.min(), data.max()] for name, data in tables.items()}\n",
    "pd.concat(\n",
    "    [\n",
    "        pd.DataFrame.from_dict(stats, orient=\"index\", columns=[\"mean\", \"var\", \"min\", \"max\"]),\n",
    "        labels.agg([\"mean\", \"var\", \"min\", \"max\"]).T,\n",
    "    ]\n",
    ").rename_axis(\"Data Type\").rename(columns=lambda x: x.title()).round(2)"
   ]
  },
  {
   "cell_type": "markdown",
   "metadata": {},
   "source": [
    "### <div class='exercise'> <b> Step 4: Create Data Pipeline </b> </div>"
   ]
  },
  {
   "cell_type": "code",
   "execution_count": 8,
   "metadata": {},
   "outputs": [],
   "source": [
    "# Create Tensorflow Dataset\n",
    "training = tf.data.Dataset.from_tensor_slices({\n",
    "    \"Image\": image_train,\n",
    "    \"No-noise Image\": image_nonoise_train,\n",
    "    \"Labels\": np.hstack([label_train, sigma_train, psf_train]),\n",
    "})\n",
    "\n",
    "validation = tf.data.Dataset.from_tensor_slices({\n",
    "    \"Image\": image_val,\n",
    "    \"No-noise Image\": image_nonoise_val,\n",
    "    \"Labels\": np.hstack([label_val, sigma_val, psf_val]),\n",
    "})"
   ]
  },
  {
   "cell_type": "code",
   "execution_count": 9,
   "metadata": {},
   "outputs": [],
   "source": [
    "def pipeline_label_to_clean_image(element):\n",
    "    image = element['No-noise Image']\n",
    "    label = tf.cast(element['Labels'], tf.float32)\n",
    "                     \n",
    "    return (label, image)"
   ]
  },
  {
   "cell_type": "code",
   "execution_count": 10,
   "metadata": {},
   "outputs": [],
   "source": [
    "def pipeline_clean_image_to_label(element):\n",
    "    image = element['No-noise Image']\n",
    "    label = tf.cast(element['Labels'], tf.float32)\n",
    "    \n",
    "    return (image, label)"
   ]
  },
  {
   "cell_type": "code",
   "execution_count": 11,
   "metadata": {},
   "outputs": [],
   "source": [
    "def pipeline_clean_image_to_clean_image(element):\n",
    "    image = element['No-noise Image']\n",
    "    label = tf.cast(element['Labels'], tf.float32)\n",
    "    \n",
    "    return (image, (image, label))"
   ]
  },
  {
   "cell_type": "code",
   "execution_count": 12,
   "metadata": {},
   "outputs": [],
   "source": [
    "# Batch Size\n",
    "batch_size = 256\n",
    "\n",
    "\n",
    "# Data pipeline for Decoder\n",
    "tr_ds = training.map(\n",
    "    pipeline_label_to_clean_image).shuffle(1024).batch(batch_size).prefetch(tf.data.experimental.AUTOTUNE)\n",
    "val_ds = validation.map(\n",
    "    pipeline_label_to_clean_image).batch(batch_size).prefetch(tf.data.experimental.AUTOTUNE)\n",
    "\n",
    "# Data pipeline for Encoder\n",
    "tr_ds_en = training.map(\n",
    "    pipeline_clean_image_to_label).shuffle(1024).batch(batch_size).prefetch(tf.data.experimental.AUTOTUNE)\n",
    "val_ds_en = validation.map(\n",
    "    pipeline_clean_image_to_label).batch(batch_size).prefetch(tf.data.experimental.AUTOTUNE)\n",
    "\n",
    "\n",
    "# Data pipeline for AE\n",
    "tr_ds_AE = training.map(\n",
    "    pipeline_clean_image_to_clean_image).shuffle(1024).batch(batch_size).prefetch(tf.data.experimental.AUTOTUNE)\n",
    "val_ds_AE = validation.map(\n",
    "    pipeline_clean_image_to_clean_image).batch(batch_size).prefetch(tf.data.experimental.AUTOTUNE)"
   ]
  },
  {
   "cell_type": "markdown",
   "metadata": {},
   "source": [
    "### <div class='exercise'> <b> Step 5: Create Label to Image Decoder </b> </div>"
   ]
  },
  {
   "cell_type": "code",
   "execution_count": 13,
   "metadata": {},
   "outputs": [],
   "source": [
    "K.clear_session()\n",
    "\n",
    "# Encoder Inout Dimension\n",
    "input_shape = (64,64,1)\n",
    "\n",
    "# Dropout rate for dense layers\n",
    "dropout = 0.5\n",
    "\n",
    "# Encoder Output dimension - Decoder Input Dimension\n",
    "latent_z_dim = 7\n",
    "\n",
    "# Decoder latent dimension\n",
    "latent_dim = (1,1,2048)\n",
    "\n",
    "# Number of Training Epochs\n",
    "epochs = 20"
   ]
  },
  {
   "cell_type": "code",
   "execution_count": 14,
   "metadata": {},
   "outputs": [],
   "source": [
    "class ConvEncoder(layers.Layer):\n",
    "    \"\"\"\n",
    "    Convolutional Encoder Layer Class.\n",
    "    Converts an input into a latent representation.\n",
    "    \"\"\"\n",
    "\n",
    "    def __init__(self, input_shape, dropout_rate=0.0, name='encoder', **kwargs):\n",
    "        \"\"\"\n",
    "        Initializes the encoder layers and saves them as local attribute.\n",
    "        \n",
    "        Input:\n",
    "        -input_dim: 3D-tuple with (rows, cols, channels) input image dimensions.\n",
    "        \n",
    "        Returns nothing.\n",
    "        \"\"\"\n",
    "        super(ConvEncoder, self).__init__(name=name, input_shape=input_shape, **kwargs)\n",
    "        \n",
    "        ## your code here\n",
    "        \n",
    "        self.conv1 = layers.Conv2D(filters=32, kernel_size=(3,3), padding='same', strides=(2,2))\n",
    "        self.lRelu1 = layers.LeakyReLU()\n",
    "        self.drop1 = layers.Dropout(dropout_rate)\n",
    "        \n",
    "        self.conv2 = layers.Conv2D(filters=64, kernel_size=(3,3), padding='same', strides=(2,2))\n",
    "        self.lRelu2 = layers.LeakyReLU()\n",
    "        self.drop2 = layers.Dropout(dropout_rate)\n",
    "        \n",
    "        self.conv3 = layers.Conv2D(filters=128, kernel_size=(3,3), padding='same', strides=(2,2))\n",
    "        self.lRelu3 = layers.LeakyReLU()\n",
    "        self.drop3 = layers.Dropout(dropout_rate)\n",
    "        \n",
    "        self.conv4 = layers.Conv2D(filters=256, kernel_size=(3,3), padding='same', strides=(2,2))\n",
    "        self.lRelu4 = layers.LeakyReLU()\n",
    "        self.drop4 = layers.Dropout(dropout_rate)\n",
    "        \n",
    "        self.conv5 = layers.Conv2D(filters=512, kernel_size=(3,3), padding='same', strides=(2,2))\n",
    "        self.lRelu5 = layers.LeakyReLU()\n",
    "        self.drop5 = layers.Dropout(dropout_rate)\n",
    "        \n",
    "        self.conv6 = layers.Conv2D(filters=2048, kernel_size=(3,3), padding='same', strides=(2,2))\n",
    "        self.lRelu6 = layers.LeakyReLU()\n",
    "        self.drop6 = layers.Dropout(dropout_rate)\n",
    "        \n",
    "        # end of your code here\n",
    "        \n",
    "\n",
    "    def call(self, inputs, training=None):\n",
    "        \"\"\"\n",
    "        Runs the encoding inference for `inputs`.\n",
    "        \n",
    "        Inputs:\n",
    "        -inputs: 4D-tensor with dimension (batch_size, self.input_dim).\n",
    "        \"\"\"\n",
    "        ## your code here\n",
    "        \n",
    "        z = self.conv1(inputs)\n",
    "        z = self.lRelu1(z)\n",
    "        z = self.drop1(z)\n",
    "        \n",
    "        z = self.conv2(z)\n",
    "        z = self.lRelu2(z)\n",
    "        z = self.drop2(z)\n",
    "        \n",
    "        z = self.conv3(z)\n",
    "        z = self.lRelu3(z)\n",
    "        z = self.drop3(z)\n",
    "        \n",
    "        z = self.conv4(z)\n",
    "        z = self.lRelu4(z)\n",
    "        z = self.drop4(z)\n",
    "        \n",
    "        z = self.conv5(z)\n",
    "        z = self.lRelu5(z)\n",
    "        z = self.drop5(z)\n",
    "        \n",
    "        z = self.conv6(z)\n",
    "        z = self.lRelu6(z)\n",
    "        z = self.drop6(z)\n",
    "        \n",
    "        # end of your code here\n",
    "        return z"
   ]
  },
  {
   "cell_type": "code",
   "execution_count": 15,
   "metadata": {},
   "outputs": [],
   "source": [
    "class ConvDecoder(layers.Layer):\n",
    "    \"\"\"\n",
    "    Convolutional Decoder Layer Class.\n",
    "    Converts z, the encoded digit vector, back into a readable digit.\n",
    "    \"\"\"\n",
    "\n",
    "    def __init__(self, input_shape, dropout_rate=0.0, name='decoder', **kwargs):\n",
    "        \"\"\"\n",
    "        Initializes the decoder architecture and saves it as a local attribute.\n",
    "        \n",
    "        Input:\n",
    "        -input_shape: 3D-tuple with (rows, cols, channels) input representation.\n",
    "        \n",
    "        Returns nothing.\n",
    "        \"\"\"\n",
    "        super(ConvDecoder, self).__init__(name=name, input_shape=input_shape, **kwargs)\n",
    "        \n",
    "        # your code here\n",
    "        self.convT1 = layers.Conv2DTranspose(512, kernel_size=(3,3), strides=(2,2), padding='same')\n",
    "        self.lRelu1 = layers.LeakyReLU()\n",
    "        self.drop1 = layers.Dropout(dropout_rate)\n",
    "        \n",
    "        self.convT2 = layers.Conv2DTranspose(256, kernel_size=(3,3), strides=(2,2), padding='same')\n",
    "        self.lRelu2 = layers.LeakyReLU()\n",
    "        self.drop2 = layers.Dropout(dropout_rate)\n",
    "        \n",
    "        self.convT3 = layers.Conv2DTranspose(128, kernel_size=(3,3), strides=(2,2), padding='same')\n",
    "        self.lRelu3 = layers.LeakyReLU()\n",
    "        self.drop3 = layers.Dropout(dropout_rate)\n",
    "        \n",
    "        self.convT4 = layers.Conv2DTranspose(64, kernel_size=(3,3), strides=(2,2), padding='same')\n",
    "        self.lRelu4 = layers.LeakyReLU()\n",
    "        self.drop4 = layers.Dropout(dropout_rate)\n",
    "        \n",
    "        self.convT5 = layers.Conv2DTranspose(32, kernel_size=(3,3), strides=(2,2), padding='same')\n",
    "        self.lRelu5 = layers.LeakyReLU()\n",
    "        self.drop5 = layers.Dropout(dropout_rate)\n",
    "        \n",
    "        self.convT6 = layers.Conv2DTranspose(1, kernel_size=(3,3), strides=(2,2), padding='same', \n",
    "                                             activation='sigmoid')\n",
    "        # end of your code here\n",
    "        \n",
    "\n",
    "    def call(self, inputs, training=None):\n",
    "        \"\"\"\n",
    "        Runs the encoding inference for `inputs`.\n",
    "        \n",
    "        Inputs:\n",
    "        -inputs: 4D-tensor with dimension (batch_size, self.input_dim).\n",
    "        \"\"\"\n",
    "        ## your code here\n",
    "        \n",
    "        x = self.convT1(inputs)\n",
    "        x = self.lRelu1(x)\n",
    "        x = self.drop1(x)\n",
    "        \n",
    "        x = self.convT2(x)\n",
    "        x = self.lRelu2(x)\n",
    "        x = self.drop2(x)\n",
    "        \n",
    "        x = self.convT3(x)\n",
    "        x = self.lRelu3(x)\n",
    "        x = self.drop3(x)\n",
    "        \n",
    "        x = self.convT4(x)\n",
    "        x = self.lRelu4(x)\n",
    "        x = self.drop4(x)\n",
    "        \n",
    "        x = self.convT5(x)\n",
    "        x = self.lRelu5(x)\n",
    "        x = self.drop5(x)\n",
    "        \n",
    "        x = self.convT6(x)\n",
    "        \n",
    "        # end your code here\n",
    "        return x"
   ]
  },
  {
   "cell_type": "code",
   "execution_count": 16,
   "metadata": {},
   "outputs": [
    {
     "name": "stdout",
     "output_type": "stream",
     "text": [
      "Model: \"Reverse_Decoder\"\n",
      "_________________________________________________________________\n",
      "Layer (type)                 Output Shape              Param #   \n",
      "=================================================================\n",
      "input_1 (InputLayer)         [(None, 7)]               0         \n",
      "_________________________________________________________________\n",
      "dense (Dense)                (None, 1024)              8192      \n",
      "_________________________________________________________________\n",
      "dropout (Dropout)            (None, 1024)              0         \n",
      "_________________________________________________________________\n",
      "dense_1 (Dense)              (None, 2048)              2099200   \n",
      "_________________________________________________________________\n",
      "leaky_re_lu (LeakyReLU)      (None, 2048)              0         \n",
      "_________________________________________________________________\n",
      "dropout_1 (Dropout)          (None, 2048)              0         \n",
      "_________________________________________________________________\n",
      "reshape (Reshape)            (None, 1, 1, 2048)        0         \n",
      "_________________________________________________________________\n",
      "decoder (ConvDecoder)        (None, 64, 64, 1)         11005185  \n",
      "=================================================================\n",
      "Total params: 13,112,577\n",
      "Trainable params: 13,112,577\n",
      "Non-trainable params: 0\n",
      "_________________________________________________________________\n"
     ]
    },
    {
     "data": {
      "text/plain": [
       "None"
      ]
     },
     "metadata": {},
     "output_type": "display_data"
    }
   ],
   "source": [
    "# Create Reverse Decoder Model\n",
    "def create_reverse_decoder():\n",
    "\n",
    "    # Create Reverse Decoder\n",
    "    input_decoder = layers.Input(latent_z_dim)\n",
    "    x = layers.Dense(1024)(input_decoder)\n",
    "    x = layers.Dropout(dropout)(x)\n",
    "    x = layers.Dense(2048)(x)\n",
    "    x = layers.LeakyReLU()(x)\n",
    "    x = layers.Dropout(dropout)(x)\n",
    "    x = layers.Reshape(latent_dim)(x)\n",
    "    recon = ConvDecoder(latent_dim)(x)\n",
    "    \n",
    "    # Decoder Model\n",
    "    decoder = tf.keras.Model(input_decoder, recon, name='Reverse_Decoder')\n",
    "    display(decoder.summary())\n",
    "    \n",
    "    # Compile the model\n",
    "    optimizer = optimizers.Adam(learning_rate=0.001)\n",
    "    decoder.compile(optimizer, loss=losses.BinaryCrossentropy())\n",
    "    \n",
    "    # Return reverse decoder\n",
    "    return decoder\n",
    "\n",
    "reverse_decoder = create_reverse_decoder()"
   ]
  },
  {
   "cell_type": "code",
   "execution_count": 17,
   "metadata": {
    "scrolled": true
   },
   "outputs": [
    {
     "name": "stdout",
     "output_type": "stream",
     "text": [
      "Epoch 1/20\n",
      "704/704 [==============================] - 166s 236ms/step - loss: 0.0251 - val_loss: 0.0000e+00\n",
      "Epoch 2/20\n",
      "704/704 [==============================] - 162s 231ms/step - loss: 0.0121 - val_loss: 0.0121\n",
      "Epoch 3/20\n",
      "704/704 [==============================] - 163s 232ms/step - loss: 0.0121 - val_loss: 0.0121\n",
      "Epoch 4/20\n",
      "704/704 [==============================] - 163s 231ms/step - loss: 0.0121 - val_loss: 0.0121\n",
      "Epoch 5/20\n",
      "704/704 [==============================] - 163s 232ms/step - loss: 0.0120 - val_loss: 0.0121\n",
      "Epoch 6/20\n",
      "704/704 [==============================] - 162s 230ms/step - loss: 0.0120 - val_loss: 0.0121\n",
      "Epoch 7/20\n",
      "704/704 [==============================] - 163s 231ms/step - loss: 0.0120 - val_loss: 0.0121\n",
      "Epoch 8/20\n",
      "704/704 [==============================] - 163s 231ms/step - loss: 0.0120 - val_loss: 0.0121\n",
      "Epoch 9/20\n",
      "704/704 [==============================] - 163s 231ms/step - loss: 0.0120 - val_loss: 0.0121\n",
      "Epoch 10/20\n",
      "704/704 [==============================] - 163s 231ms/step - loss: 0.0120 - val_loss: 0.0121\n",
      "Epoch 11/20\n",
      "704/704 [==============================] - 163s 231ms/step - loss: 0.0120 - val_loss: 0.0121\n",
      "Epoch 12/20\n",
      "704/704 [==============================] - 163s 231ms/step - loss: 0.0120 - val_loss: 0.0121\n",
      "Epoch 13/20\n",
      "704/704 [==============================] - 163s 231ms/step - loss: 0.0120 - val_loss: 0.0121\n",
      "Epoch 14/20\n",
      "704/704 [==============================] - 163s 231ms/step - loss: 0.0120 - val_loss: 0.0121\n",
      "Epoch 15/20\n",
      "704/704 [==============================] - 162s 231ms/step - loss: 0.0120 - val_loss: 0.0121\n",
      "Epoch 16/20\n",
      "704/704 [==============================] - 162s 231ms/step - loss: 0.0120 - val_loss: 0.0121\n",
      "Epoch 17/20\n",
      "704/704 [==============================] - 162s 230ms/step - loss: 0.0120 - val_loss: 0.0121\n",
      "Epoch 18/20\n",
      "704/704 [==============================] - 163s 232ms/step - loss: 0.0120 - val_loss: 0.0121\n",
      "Epoch 19/20\n",
      "704/704 [==============================] - 162s 230ms/step - loss: 0.0120 - val_loss: 0.0121\n",
      "Epoch 20/20\n",
      "704/704 [==============================] - 162s 231ms/step - loss: 0.0120 - val_loss: 0.0121\n"
     ]
    }
   ],
   "source": [
    "# Run the model\n",
    "try:\n",
    "    reverse_decoder.load_weights('./model/rev_de2')\n",
    "    \n",
    "except:\n",
    "    history = reverse_decoder.fit(\n",
    "        tr_ds, \n",
    "        epochs=epochs, \n",
    "        verbose=1,\n",
    "        validation_data=val_ds,\n",
    "        callbacks=[EarlyStopping(monitor='val_loss', patience=5, restore_best_weights=True)]\n",
    "    )\n",
    "    \n",
    "    reverse_decoder.save_weights('./model/rev_de2')"
   ]
  },
  {
   "cell_type": "code",
   "execution_count": 18,
   "metadata": {},
   "outputs": [],
   "source": [
    "test = val_ds.take(1)\n",
    "labels, images = next(iter(test))\n",
    "pred = reverse_decoder.predict(labels)\n",
    "pred = pred.reshape(pred.shape[:-1])"
   ]
  },
  {
   "cell_type": "code",
   "execution_count": 19,
   "metadata": {},
   "outputs": [
    {
     "data": {
      "image/png": "[encoded data removed]",
      "text/plain": [
       "<Figure size 1440x216 with 8 Axes>"
      ]
     },
     "metadata": {
      "image/png": {
       "height": 196,
       "width": 1153
      },
      "needs_background": "light"
     },
     "output_type": "display_data"
    },
    {
     "data": {
      "image/png": "[encoded data removed]",
      "text/plain": [
       "<Figure size 1440x216 with 8 Axes>"
      ]
     },
     "metadata": {
      "image/png": {
       "height": 196,
       "width": 1153
      },
      "needs_background": "light"
     },
     "output_type": "display_data"
    }
   ],
   "source": [
    "idx = np.random.randint(256*1, size=8)\n",
    "\n",
    "fig, ax = plt.subplots(1,8, figsize=(20,3))\n",
    "plt.suptitle(\"Generated Images\", fontsize=25)\n",
    "for j in range(8):\n",
    "    ax[j].imshow(pred[idx[j]])\n",
    "plt.show()\n",
    "\n",
    "\n",
    "fig, ax = plt.subplots(1,8, figsize=(20,3))\n",
    "plt.suptitle(\"Original Images\", fontsize=25)\n",
    "for j in range(8):\n",
    "    ax[j].imshow(images[idx[j]].numpy().reshape(64,64))\n",
    "plt.show()"
   ]
  },
  {
   "cell_type": "markdown",
   "metadata": {},
   "source": [
    "### <div class='exercise'> <b> Step 6: Create Image to Label Encoder </b> </div>"
   ]
  },
  {
   "cell_type": "code",
   "execution_count": 20,
   "metadata": {},
   "outputs": [
    {
     "name": "stdout",
     "output_type": "stream",
     "text": [
      "Model: \"Reverse_Encoder\"\n",
      "_________________________________________________________________\n",
      "Layer (type)                 Output Shape              Param #   \n",
      "=================================================================\n",
      "input_2 (InputLayer)         [(None, 64, 64, 1)]       0         \n",
      "_________________________________________________________________\n",
      "encoder (ConvEncoder)        (None, 1, 1, 2048)        11007232  \n",
      "_________________________________________________________________\n",
      "flatten (Flatten)            (None, 2048)              0         \n",
      "_________________________________________________________________\n",
      "dense_2 (Dense)              (None, 2048)              4196352   \n",
      "_________________________________________________________________\n",
      "leaky_re_lu_12 (LeakyReLU)   (None, 2048)              0         \n",
      "_________________________________________________________________\n",
      "dropout_13 (Dropout)         (None, 2048)              0         \n",
      "_________________________________________________________________\n",
      "dense_3 (Dense)              (None, 1024)              2098176   \n",
      "_________________________________________________________________\n",
      "dropout_14 (Dropout)         (None, 1024)              0         \n",
      "_________________________________________________________________\n",
      "dense_4 (Dense)              (None, 7)                 7175      \n",
      "=================================================================\n",
      "Total params: 17,308,935\n",
      "Trainable params: 17,308,935\n",
      "Non-trainable params: 0\n",
      "_________________________________________________________________\n"
     ]
    },
    {
     "data": {
      "text/plain": [
       "None"
      ]
     },
     "metadata": {},
     "output_type": "display_data"
    }
   ],
   "source": [
    "# Create Reverse Decoder Model\n",
    "def create_reverse_encoder():\n",
    "\n",
    "    # Create Reverse Encoder\n",
    "    input_encoder = layers.Input(input_shape)\n",
    "    x = ConvEncoder(input_shape)(input_encoder)\n",
    "    x = layers.Flatten()(x)\n",
    "    x = layers.Dense(2048)(x)\n",
    "    x = layers.LeakyReLU()(x)\n",
    "    x = layers.Dropout(dropout)(x)\n",
    "    x = layers.Dense(1024)(x)\n",
    "    x = layers.Dropout(dropout)(x)\n",
    "    latent_z = layers.Dense(latent_z_dim, activation='sigmoid')(x)\n",
    "    \n",
    "    \n",
    "    # Encoder Model\n",
    "    encoder = tf.keras.Model(input_encoder, latent_z, name='Reverse_Encoder')\n",
    "    display(encoder.summary())\n",
    "    \n",
    "    # Compile the model\n",
    "    optimizer = optimizers.Adam(learning_rate=0.001)\n",
    "    encoder.compile(optimizer, loss=losses.MeanSquaredError())\n",
    "    \n",
    "    # Return reverse decoder\n",
    "    return encoder\n",
    "\n",
    "reverse_encoder = create_reverse_encoder()"
   ]
  },
  {
   "cell_type": "code",
   "execution_count": 21,
   "metadata": {
    "scrolled": false
   },
   "outputs": [
    {
     "name": "stdout",
     "output_type": "stream",
     "text": [
      "Epoch 1/20\n",
      "704/704 [==============================] - 155s 220ms/step - loss: 0.0078 - val_loss: 0.0000e+00\n",
      "Epoch 2/20\n",
      "704/704 [==============================] - 149s 212ms/step - loss: 0.2542 - val_loss: 0.5216\n",
      "Epoch 3/20\n",
      "704/704 [==============================] - 144s 205ms/step - loss: 0.5228 - val_loss: 0.5216\n",
      "Epoch 4/20\n",
      "704/704 [==============================] - 144s 205ms/step - loss: 0.5228 - val_loss: 0.5216\n",
      "Epoch 5/20\n",
      "704/704 [==============================] - 143s 204ms/step - loss: 0.5228 - val_loss: 0.5216\n",
      "Epoch 6/20\n",
      "704/704 [==============================] - 144s 205ms/step - loss: 0.5228 - val_loss: 0.5216\n"
     ]
    }
   ],
   "source": [
    "# Run the model\n",
    "try:\n",
    "    reverse_encoder.load_weights('./model/rev_en2')\n",
    "    \n",
    "except:\n",
    "    history = reverse_encoder.fit(\n",
    "        tr_ds_en, \n",
    "        epochs=epochs, \n",
    "        verbose=1,\n",
    "        validation_data=val_ds_en,\n",
    "        callbacks=[EarlyStopping(monitor='val_loss', patience=5, restore_best_weights=True)]\n",
    "    )\n",
    "    \n",
    "    reverse_encoder.save_weights('./model/rev_en2')"
   ]
  },
  {
   "cell_type": "code",
   "execution_count": 22,
   "metadata": {},
   "outputs": [],
   "source": [
    "test = val_ds_en.take(1)\n",
    "images, labels = next(iter(test))\n",
    "pred = reverse_encoder.predict(images)"
   ]
  },
  {
   "cell_type": "code",
   "execution_count": 23,
   "metadata": {
    "scrolled": true
   },
   "outputs": [
    {
     "name": "stdout",
     "output_type": "stream",
     "text": [
      "Pred:    [0.4315231  0.40407318 0.6044307  0.73772573 0.56328064 0.00847551\n",
      " 0.00811273]\n",
      "Orignal: [0.42072448 0.43843845 0.638038   0.72692305 0.5686976  0.\n",
      " 0.        ]\n",
      "0.001239035790408849\n"
     ]
    }
   ],
   "source": [
    "i = 1\n",
    "\n",
    "print(\"Pred:   \",pred[i])\n",
    "print(\"Orignal:\",labels[i].numpy())\n",
    "print(np.sum(pred[i]-labels[i].numpy())**2)"
   ]
  },
  {
   "cell_type": "code",
   "execution_count": 24,
   "metadata": {},
   "outputs": [],
   "source": [
    "label_val = np.hstack([label_val, sigma_val, psf_val])\n",
    "label_diff = np.hstack([label_diff, sigma_diff, psf_diff])\n",
    "label_min = np.hstack([label_min, sigma_min, psf_min])\n",
    "\n",
    "pred = (reverse_encoder.predict(val_ds_en) * label_diff) + label_min"
   ]
  },
  {
   "cell_type": "code",
   "execution_count": 25,
   "metadata": {},
   "outputs": [],
   "source": [
    "label_unscaled = (label_val* label_diff) + label_min\n",
    "error = pred - label_unscaled"
   ]
  },
  {
   "cell_type": "code",
   "execution_count": 26,
   "metadata": {},
   "outputs": [
    {
     "name": "stderr",
     "output_type": "stream",
     "text": [
      "/usr/share/anaconda3/lib/python3.7/site-packages/ipykernel_launcher.py:6: RuntimeWarning: divide by zero encountered in true_divide\n",
      "  \n"
     ]
    }
   ],
   "source": [
    "MSE = (error**2).mean(axis=0)\n",
    "RMSE = np.sqrt(MSE)\n",
    "\n",
    "label_var = label_unscaled.std(axis=0)**2\n",
    "\n",
    "unexplained_var = MSE/label_var"
   ]
  },
  {
   "cell_type": "code",
   "execution_count": 27,
   "metadata": {},
   "outputs": [
    {
     "data": {
      "text/plain": [
       "array([0.99560909, 0.97742667, 0.99234906, 0.99120894, 0.99614655,\n",
       "             -inf,       -inf])"
      ]
     },
     "execution_count": 27,
     "metadata": {},
     "output_type": "execute_result"
    }
   ],
   "source": [
    "1 - unexplained_var"
   ]
  },
  {
   "cell_type": "code",
   "execution_count": 28,
   "metadata": {},
   "outputs": [
    {
     "data": {
      "text/plain": [
       "array([3229.89910782,    0.23922805,    0.01229986,    0.02617094,\n",
       "          0.01721893,    0.00535898,    0.00515743])"
      ]
     },
     "execution_count": 28,
     "metadata": {},
     "output_type": "execute_result"
    }
   ],
   "source": [
    "np.set_printoptions(suppress=True)\n",
    "RMSE"
   ]
  },
  {
   "cell_type": "markdown",
   "metadata": {},
   "source": [
    "### <div class='exercise'> <b> Step 6: Create and fine-tune Auto-Encoder </b> </div>"
   ]
  },
  {
   "cell_type": "code",
   "execution_count": 29,
   "metadata": {},
   "outputs": [
    {
     "name": "stdout",
     "output_type": "stream",
     "text": [
      "Model: \"Reverse_AE\"\n",
      "_________________________________________________________________\n",
      "Layer (type)                 Output Shape              Param #   \n",
      "=================================================================\n",
      "input_3 (InputLayer)         [(None, 64, 64, 1)]       0         \n",
      "_________________________________________________________________\n",
      "Reverse_Encoder (Model)      (None, 7)                 17308935  \n",
      "_________________________________________________________________\n",
      "Reverse_Decoder (Model)      (None, 64, 64, 1)         13112577  \n",
      "=================================================================\n",
      "Total params: 30,421,512\n",
      "Trainable params: 30,421,512\n",
      "Non-trainable params: 0\n",
      "_________________________________________________________________\n"
     ]
    },
    {
     "data": {
      "text/plain": [
       "None"
      ]
     },
     "metadata": {},
     "output_type": "display_data"
    }
   ],
   "source": [
    "def create_reverse_AE():\n",
    "    input_encoder = layers.Input(input_shape)\n",
    "    labels = reverse_encoder(input_encoder)\n",
    "    recons = reverse_decoder(labels)\n",
    "    \n",
    "    # Reverse AE Model\n",
    "    reverse_AE = tf.keras.Model(input_encoder, [recons, labels], name='Reverse_AE')\n",
    "    display(reverse_AE.summary())\n",
    "    \n",
    "    # Compile the model\n",
    "    optimizer = optimizers.Adam(learning_rate=0.001)\n",
    "    reverse_AE.compile(optimizer, loss=losses.BinaryCrossentropy())\n",
    "    \n",
    "    # Return reverse decoder\n",
    "    return reverse_AE\n",
    "\n",
    "reverse_AE = create_reverse_AE()"
   ]
  },
  {
   "cell_type": "code",
   "execution_count": 30,
   "metadata": {},
   "outputs": [
    {
     "name": "stdout",
     "output_type": "stream",
     "text": [
      "Epoch 1/20\n",
      "704/704 [==============================] - 312s 443ms/step - loss: 0.4082 - Reverse_Decoder_loss: 0.0120 - Reverse_Encoder_loss: 0.3961 - val_loss: 0.0000e+00 - val_Reverse_Decoder_loss: 0.0000e+00 - val_Reverse_Encoder_loss: 0.0000e+00\n",
      "Epoch 2/20\n",
      "704/704 [==============================] - 317s 450ms/step - loss: 67.4554 - Reverse_Decoder_loss: 0.0134 - Reverse_Encoder_loss: 67.3470 - val_loss: 0.4698 - val_Reverse_Decoder_loss: 0.0124 - val_Reverse_Encoder_loss: 0.4574\n",
      "Epoch 3/20\n",
      "704/704 [==============================] - 317s 451ms/step - loss: 0.4947 - Reverse_Decoder_loss: 0.0124 - Reverse_Encoder_loss: 0.4823 - val_loss: 0.4617 - val_Reverse_Decoder_loss: 0.0123 - val_Reverse_Encoder_loss: 0.4494\n",
      "Epoch 4/20\n",
      "704/704 [==============================] - 316s 449ms/step - loss: 0.4718 - Reverse_Decoder_loss: 0.0123 - Reverse_Encoder_loss: 0.4594 - val_loss: 0.4554 - val_Reverse_Decoder_loss: 0.0123 - val_Reverse_Encoder_loss: 0.4430\n",
      "Epoch 5/20\n",
      "704/704 [==============================] - 309s 439ms/step - loss: 0.4668 - Reverse_Decoder_loss: 0.0123 - Reverse_Encoder_loss: 0.4545 - val_loss: 0.4544 - val_Reverse_Decoder_loss: 0.0124 - val_Reverse_Encoder_loss: 0.4421\n",
      "Epoch 6/20\n",
      "704/704 [==============================] - 317s 451ms/step - loss: 0.4611 - Reverse_Decoder_loss: 0.0123 - Reverse_Encoder_loss: 0.4488 - val_loss: 0.4452 - val_Reverse_Decoder_loss: 0.0123 - val_Reverse_Encoder_loss: 0.4329\n"
     ]
    }
   ],
   "source": [
    "# Run the model\n",
    "try:\n",
    "    reverse_AE.load_weights('./model/rev_AE2')\n",
    "    \n",
    "except:\n",
    "    history = reverse_AE.fit(\n",
    "        tr_ds_AE, \n",
    "        epochs=epochs, \n",
    "        verbose=1,\n",
    "        validation_data=val_ds_AE,\n",
    "        callbacks=[EarlyStopping(monitor='val_loss', patience=5, restore_best_weights=True)]\n",
    "    )\n",
    "    \n",
    "    reverse_AE.save_weights('./model/rev_AE2')"
   ]
  },
  {
   "cell_type": "code",
   "execution_count": 31,
   "metadata": {},
   "outputs": [],
   "source": [
    "test = val_ds_AE.take(1)\n",
    "images, (_, labels) = next(iter(test))\n",
    "pred_img, pred_lab = reverse_AE.predict(images)\n",
    "pred = pred_img.reshape(pred_img.shape[:-1])"
   ]
  },
  {
   "cell_type": "code",
   "execution_count": 32,
   "metadata": {},
   "outputs": [
    {
     "data": {
      "image/png": "[encoded data removed]",
      "text/plain": [
       "<Figure size 1440x216 with 8 Axes>"
      ]
     },
     "metadata": {
      "image/png": {
       "height": 196,
       "width": 1153
      },
      "needs_background": "light"
     },
     "output_type": "display_data"
    },
    {
     "data": {
      "image/png": "[encoded data removed]",
      "text/plain": [
       "<Figure size 1440x216 with 8 Axes>"
      ]
     },
     "metadata": {
      "image/png": {
       "height": 196,
       "width": 1153
      },
      "needs_background": "light"
     },
     "output_type": "display_data"
    }
   ],
   "source": [
    "idx = np.random.randint(256*1, size=8)\n",
    "\n",
    "fig, ax = plt.subplots(1,8, figsize=(20,3))\n",
    "plt.suptitle(\"Generated Images\", fontsize=25)\n",
    "for j in range(8):\n",
    "    ax[j].imshow(pred[idx[j]])\n",
    "plt.show()\n",
    "\n",
    "\n",
    "fig, ax = plt.subplots(1,8, figsize=(20,3))\n",
    "plt.suptitle(\"Original Images\", fontsize=25)\n",
    "for j in range(8):\n",
    "    ax[j].imshow(images[idx[j]].numpy().reshape(64,64))\n",
    "plt.show()"
   ]
  },
  {
   "cell_type": "code",
   "execution_count": 33,
   "metadata": {},
   "outputs": [
    {
     "name": "stdout",
     "output_type": "stream",
     "text": [
      "Pred:    [0.41658473 0.43096706 0.6370676  0.7209059  0.56338626 0.00011948\n",
      " 0.00012791]\n",
      "Orignal: [0.42072448 0.43843845 0.638038   0.72692305 0.5686976  0.\n",
      " 0.        ]\n",
      "0.0005599170835921541\n"
     ]
    }
   ],
   "source": [
    "i = 1\n",
    "\n",
    "print(\"Pred:   \",pred_lab[i])\n",
    "print(\"Orignal:\",labels[i].numpy())\n",
    "print(np.sum(pred_lab[i]-labels[i].numpy())**2)"
   ]
  },
  {
   "cell_type": "code",
   "execution_count": 34,
   "metadata": {},
   "outputs": [],
   "source": [
    "_, pred = (reverse_AE.predict(val_ds_AE))\n",
    "pred =  (pred * label_diff) + label_min"
   ]
  },
  {
   "cell_type": "code",
   "execution_count": 35,
   "metadata": {},
   "outputs": [],
   "source": [
    "label_unscaled = (label_val* label_diff) + label_min\n",
    "error = pred - label_unscaled"
   ]
  },
  {
   "cell_type": "code",
   "execution_count": 36,
   "metadata": {},
   "outputs": [
    {
     "name": "stderr",
     "output_type": "stream",
     "text": [
      "/usr/share/anaconda3/lib/python3.7/site-packages/ipykernel_launcher.py:6: RuntimeWarning: divide by zero encountered in true_divide\n",
      "  \n"
     ]
    }
   ],
   "source": [
    "MSE = (error**2).mean(axis=0)\n",
    "RMSE = np.sqrt(MSE)\n",
    "\n",
    "label_var = label_unscaled.std(axis=0)**2\n",
    "\n",
    "unexplained_var = MSE/label_var"
   ]
  },
  {
   "cell_type": "code",
   "execution_count": 37,
   "metadata": {},
   "outputs": [
    {
     "data": {
      "text/plain": [
       "array([0.99857718, 0.99256436, 0.99491029, 0.9976238 , 0.99733396,\n",
       "             -inf,       -inf])"
      ]
     },
     "execution_count": 37,
     "metadata": {},
     "output_type": "execute_result"
    }
   ],
   "source": [
    "1 - unexplained_var"
   ]
  },
  {
   "cell_type": "code",
   "execution_count": 38,
   "metadata": {},
   "outputs": [
    {
     "data": {
      "text/plain": [
       "array([1838.60025793,    0.13730089,    0.01003204,    0.01360629,\n",
       "          0.01432237,    0.00007603,    0.0000816 ])"
      ]
     },
     "execution_count": 38,
     "metadata": {},
     "output_type": "execute_result"
    }
   ],
   "source": [
    "np.set_printoptions(suppress=True)\n",
    "RMSE"
   ]
  },
  {
   "cell_type": "markdown",
   "metadata": {},
   "source": [
    "<div class='gc'> <b> Select random images for visualization </b> </div>"
   ]
  },
  {
   "cell_type": "markdown",
   "metadata": {},
   "source": [
    "## <div class=\"theme\"> Summary </div> \n",
    "\n",
    "<div style=\"border: 3px solid #800080; padding: 10px\"> \n",
    "    \n",
    "### ***Shape and Brightness of a Galaxy***\n"
   ]
  },
  {
   "cell_type": "markdown",
   "metadata": {},
   "source": [
    "# <img style=\"float: left; padding-right: 10px; width: 45px\" src=\"https://raw.githubusercontent.com/Harvard-IACS/2018-CS109A/master/content/styles/iacs.png\">  End of Exploratory Data Analysis \n"
   ]
  }
 ],
 "metadata": {
  "kernelspec": {
   "display_name": "python3",
   "language": "python",
   "name": "python3"
  },
  "language_info": {
   "codemirror_mode": {
    "name": "ipython",
    "version": 3
   },
   "file_extension": ".py",
   "mimetype": "text/x-python",
   "name": "python",
   "nbconvert_exporter": "python",
   "pygments_lexer": "ipython3",
   "version": "3.7.4"
  }
 },
 "nbformat": 4,
 "nbformat_minor": 2
}
