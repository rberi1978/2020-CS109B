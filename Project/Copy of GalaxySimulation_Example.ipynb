{
 "cells": [
  {
   "cell_type": "code",
   "execution_count": 3,
   "metadata": {},
   "outputs": [],
   "source": [
    "import sys\n",
    "#import os\n",
    "import math\n",
    "#import logging\n",
    "import galsim\n",
    "import matplotlib.pyplot as plt\n",
    "import h5py\n",
    "import numpy as np \n",
    "import random \n",
    "#import torch \n",
    "import copy \n",
    "\n",
    "np.set_printoptions(threshold=sys.maxsize)\n",
    "\n",
    "\n",
    "\n"
   ]
  },
  {
   "cell_type": "code",
   "execution_count": 22,
   "metadata": {},
   "outputs": [],
   "source": [
    "size=10\n",
    "img_ = np.zeros((size,64,64))\n",
    "img_nonoise_ = np.zeros((size,64,64))\n",
    "img_2_ = np.zeros((size,64,64))\n",
    "gal_flux_ = np.zeros(size)\n",
    "bulge_re_ =np.zeros(size)\n",
    "bulge_n_ =np.zeros(size)\n",
    "gal_q_ = np.zeros(size)\n",
    "gal_beta_ = np.zeros(size)\n",
    "psf_ =  np.zeros(size)\n",
    "snr_ =  np.zeros(size)\n",
    "sigma_=  np.zeros(size)\n",
    "g_1_= np.zeros(size)\n",
    "g_2_= np.zeros(size)"
   ]
  },
  {
   "cell_type": "code",
   "execution_count": 23,
   "metadata": {},
   "outputs": [],
   "source": [
    "for i in range(size): \n",
    "\n",
    "# fixed parameters \n",
    "    image_size = 64        # n x n pixels\n",
    "    pixel_scale = 0.23     # arcsec / pixel\n",
    "    random_seed = 1314662\n",
    "    rng = galsim.BaseDeviate(random_seed+1)\n",
    "    psf_beta = 2       #moffat parameter \n",
    "    \n",
    "    \n",
    "#parameter random generations  \n",
    "    psf_re=random.uniform(0.5,1)         # PSF moffat scale radius in arcsec \n",
    "    bulge_re = random.uniform(0.1,0.6)         # sersic radius, unit arcsec\n",
    "    bulge_n = random.uniform(0.5,6)        # sersic index \n",
    "\n",
    "    # q is ellipticity and beta is orientation. \n",
    "    #You could directly predict q and beta but there would be a discontiniuty issue for beta. A jump from 180 degree to 1 degree. \n",
    "    # radial sampling for g1 and g2 -reduced shear -> ellipticiy and orientation \n",
    "    A= random.uniform(0,0.67)    # gal_q =b/a will ranges in (0.2,1) & A=1-q / 1+q \n",
    "    gal_q=(1- A ) /(1+ A ) \n",
    "    gal_beta = random.uniform(0,3.14)        #  radians     \n",
    "    g_1=A *np.cos(2*gal_beta)\n",
    "    g_2=A *np.sin(2*gal_beta)\n",
    "    \n",
    "    \n",
    "    \n",
    "    noise= random.randint(200,400)\n",
    "    gal_flux = 1e5* random.uniform(.3,4)\n",
    "    \n",
    "    gal = galsim.Sersic(bulge_n, half_light_radius=bulge_re)\n",
    "    gal = gal.withFlux(gal_flux )\n",
    "    gal = gal.shear(g1=g_1,g2=g_2)\n",
    "    psf = galsim.Moffat(beta=psf_beta, flux=1., fwhm=psf_re)   \n",
    "    final = galsim.Convolve([psf, gal])\n",
    "    image = galsim.ImageF(image_size, image_size,scale=pixel_scale)\n",
    "    final.drawImage(image=image);\n",
    "    image_nonoise = copy.deepcopy(image.array)\n",
    "    snr=np.sqrt((image.array**2).sum())/noise #signal to noise ratio, after generating data, choose data with snr [10,100]\n",
    "    \n",
    "    \n",
    "\n",
    "    image.addNoise(galsim.PoissonNoise(sky_level=0.))   \n",
    "    noisemap = np.random.normal(0, noise, 64*64)  #noise map for bkgr gaussian noise \n",
    "    noisemap=noisemap.reshape((64,64))\n",
    "    img_fv = image.array+noisemap   #you can also use add noise to add gaussian noise by using 'image.addNoise(galsim.GaussianNoise(sigma=noise)) ' \n",
    "    \n",
    "    final_2 = psf \n",
    "    image_2 = galsim.ImageF(image_size, image_size,scale=pixel_scale)\n",
    "    final_2.drawImage(image=image_2) \n",
    "\n",
    "\n",
    "    img_[i]= img_fv # final noised image \n",
    "    img_2_[i]= image_2.array  # psf \n",
    "    img_nonoise_[i]=image_nonoise  # noiseless image \n",
    "    gal_flux_[i] = gal_flux\n",
    "    bulge_re_[i] =bulge_re\n",
    "    bulge_n_[i] =bulge_n\n",
    "    gal_q_[i] =gal_q\n",
    "    gal_beta_[i] = gal_beta\n",
    "    psf_[i]=psf_re\n",
    "    snr_[i]=snr\n",
    "    sigma_[i]=noise\n",
    "    g_1_[i]=g_1\n",
    "    g_2_[i]=g_2\n",
    "  "
   ]
  },
  {
   "cell_type": "code",
   "execution_count": 28,
   "metadata": {},
   "outputs": [
    {
     "data": {
      "text/plain": [
       "<matplotlib.image.AxesImage at 0x2b5a06902400>"
      ]
     },
     "execution_count": 28,
     "metadata": {},
     "output_type": "execute_result"
    },
    {
     "data": {
      "image/png": "[encoded data removed]",
      "text/plain": [
       "<Figure size 432x288 with 1 Axes>"
      ]
     },
     "metadata": {
      "needs_background": "light"
     },
     "output_type": "display_data"
    }
   ],
   "source": [
    "plt.imshow(img_nonoise_[1]) # image without noise "
   ]
  },
  {
   "cell_type": "code",
   "execution_count": 25,
   "metadata": {},
   "outputs": [
    {
     "data": {
      "text/plain": [
       "<matplotlib.image.AxesImage at 0x2b5a0684fba8>"
      ]
     },
     "execution_count": 25,
     "metadata": {},
     "output_type": "execute_result"
    },
    {
     "data": {
      "image/png": "[encoded data removed]",
      "text/plain": [
       "<Figure size 432x288 with 1 Axes>"
      ]
     },
     "metadata": {
      "needs_background": "light"
     },
     "output_type": "display_data"
    }
   ],
   "source": [
    "plt.imshow(img_[1])  # final image "
   ]
  },
  {
   "cell_type": "code",
   "execution_count": 26,
   "metadata": {},
   "outputs": [
    {
     "data": {
      "text/plain": [
       "<matplotlib.image.AxesImage at 0x2b5a069c5780>"
      ]
     },
     "execution_count": 26,
     "metadata": {},
     "output_type": "execute_result"
    },
    {
     "data": {
      "image/png": "[encoded data removed]",
      "text/plain": [
       "<Figure size 432x288 with 1 Axes>"
      ]
     },
     "metadata": {
      "needs_background": "light"
     },
     "output_type": "display_data"
    }
   ],
   "source": [
    "plt.imshow(img_2_[1] )  # PSF"
   ]
  },
  {
   "cell_type": "code",
   "execution_count": null,
   "metadata": {},
   "outputs": [],
   "source": []
  }
 ],
 "metadata": {
  "kernelspec": {
   "display_name": "Python 3",
   "language": "python",
   "name": "python3"
  },
  "language_info": {
   "codemirror_mode": {
    "name": "ipython",
    "version": 3
   },
   "file_extension": ".py",
   "mimetype": "text/x-python",
   "name": "python",
   "nbconvert_exporter": "python",
   "pygments_lexer": "ipython3",
   "version": "3.6.9"
  }
 },
 "nbformat": 4,
 "nbformat_minor": 2
}
